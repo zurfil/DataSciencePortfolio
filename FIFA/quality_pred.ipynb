{
 "cells": [
  {
   "cell_type": "markdown",
   "id": "d454620627db7632",
   "metadata": {
    "collapsed": false
   },
   "source": [
    "# Classification task for FIFA dataset\n",
    "\n",
    "This notebook will cover the necessary steps to perform the task of classification on most available datasets.\n",
    "This dataset does not contain a categorical (class) metric measuring the player's overall ability, it does however contain\n",
    "a continuous variable called \"Overall\" with the range of 0-100. We will use it to create the three classes:\n",
    "- Bronze (0-64)\n",
    "- Silver (65-74)\n",
    "- Gold (75-100)\n",
    "\n",
    "In order to perform a classification task, both training data to which the answers are already known, and predictions data to which\n",
    "the answers are not known are required. As the FIFA does only release full datasets (meaning datasets where Overall is known) we\n",
    "will take the latest dataset and strip the answers for it in order to compare the accuracy of the predictions later. "
   ]
  },
  {
   "cell_type": "code",
   "execution_count": 38,
   "id": "initial_id",
   "metadata": {
    "ExecuteTime": {
     "end_time": "2023-11-23T21:35:34.863896600Z",
     "start_time": "2023-11-23T21:35:34.838927700Z"
    },
    "collapsed": true,
    "jupyter": {
     "outputs_hidden": true
    }
   },
   "outputs": [],
   "source": [
    "import numpy as np\n",
    "import pandas as pd\n",
    "import matplotlib.pyplot as plt\n",
    "import seaborn as sns"
   ]
  },
  {
   "cell_type": "markdown",
   "id": "aed4e23683c2ff9e",
   "metadata": {
    "collapsed": false
   },
   "source": [
    "We start by importing the data. All datasets are available in the /data directory. In total, there are 5 training datasets from years 2017 to 2021,\n",
    "and one predictions dataset with data from 2022."
   ]
  },
  {
   "cell_type": "code",
   "execution_count": 39,
   "id": "a1a30937118368d7",
   "metadata": {
    "ExecuteTime": {
     "end_time": "2023-11-23T21:35:35.615839900Z",
     "start_time": "2023-11-23T21:35:34.840665200Z"
    },
    "collapsed": false
   },
   "outputs": [
    {
     "data": {
      "text/plain": [
       "(87642, 65)"
      ]
     },
     "execution_count": 39,
     "metadata": {},
     "output_type": "execute_result"
    }
   ],
   "source": [
    "fifa17_raw_data = pd.read_csv(\"data/FIFA17_official_data.csv\")\n",
    "fifa18_raw_data = pd.read_csv(\"data/FIFA18_official_data.csv\")\n",
    "fifa19_raw_data = pd.read_csv(\"data/FIFA19_official_data.csv\")\n",
    "fifa20_raw_data = pd.read_csv(\"data/FIFA20_official_data.csv\")\n",
    "fifa21_raw_data = pd.read_csv(\"data/FIFA21_official_data.csv\")\n",
    "\n",
    "old_raw_data = pd.concat([fifa17_raw_data, fifa18_raw_data, fifa19_raw_data, fifa20_raw_data, fifa21_raw_data], ignore_index=True)\n",
    "old_raw_data.shape"
   ]
  },
  {
   "cell_type": "markdown",
   "id": "3a76373dbb5d048c",
   "metadata": {
    "collapsed": false
   },
   "source": [
    "As the goalkeepers are graded separately from the rest of the players, in this task they are to be removed.\n",
    "Additionally, all irrelevant columns (including goalkeeping abilities) are to be removed.\n",
    "Moreover, as it can be seen by .dropna(inplace=True), there were some anomalies present in the dataset resulting in a removal\n",
    "of 707 players with incomplete statistics.\n",
    "This leaves us with a 28-dimensional dataset (as one dimension is the Overall of the player which will be removed soon),\n",
    "and 86935 players to learn from."
   ]
  },
  {
   "cell_type": "code",
   "execution_count": 40,
   "id": "51ff34da390b1d81",
   "metadata": {
    "ExecuteTime": {
     "end_time": "2023-11-23T21:35:35.656319600Z",
     "start_time": "2023-11-23T21:35:35.612838800Z"
    },
    "collapsed": false
   },
   "outputs": [
    {
     "data": {
      "text/plain": [
       "(86935, 29)"
      ]
     },
     "execution_count": 40,
     "metadata": {},
     "output_type": "execute_result"
    }
   ],
   "source": [
    "old_raw_data.drop(old_raw_data[old_raw_data[\"Position\"] == \"GK\"].index, inplace=True)\n",
    "old_raw_data = old_raw_data.drop([\"Photo\", \"Flag\", \"Club Logo\", \"Special\", \"International Reputation\", \"Body Type\", \"Real Face\", \"Joined\",\n",
    "                                  \"Loaned From\",\"Contract Valid Until\", \"Release Clause\", \"Best Position\", \"Best Overall Rating\", \"Potential\",\n",
    "                                  \"ID\", \"Name\", \"Nationality\", \"Club\", \"Value\", \"Wage\", \"Preferred Foot\", \"Weak Foot\", \"Skill Moves\",\n",
    "                                  \"Work Rate\", \"Jersey Number\", \"Height\", \"Weight\", \"Position\", \"Age\", \"Marking\", \"GKDiving\", \"GKHandling\",\n",
    "                                  \"GKKicking\", \"GKPositioning\", \"GKReflexes\", \"DefensiveAwareness\"],\n",
    "                                 axis=1, inplace=False)\n",
    "old_raw_data.dropna(inplace=True)\n",
    "old_raw_data.shape"
   ]
  },
  {
   "cell_type": "markdown",
   "id": "eec1b1a8dabeb42d",
   "metadata": {
    "collapsed": false
   },
   "source": [
    "We create the classes to which the players get assigned."
   ]
  },
  {
   "cell_type": "code",
   "execution_count": 41,
   "id": "2252e30df12d1efe",
   "metadata": {
    "ExecuteTime": {
     "end_time": "2023-11-23T21:35:35.695093Z",
     "start_time": "2023-11-23T21:35:35.654320900Z"
    },
    "collapsed": false
   },
   "outputs": [
    {
     "data": {
      "text/html": [
       "<div>\n",
       "<style scoped>\n",
       "    .dataframe tbody tr th:only-of-type {\n",
       "        vertical-align: middle;\n",
       "    }\n",
       "\n",
       "    .dataframe tbody tr th {\n",
       "        vertical-align: top;\n",
       "    }\n",
       "\n",
       "    .dataframe thead th {\n",
       "        text-align: right;\n",
       "    }\n",
       "</style>\n",
       "<table border=\"1\" class=\"dataframe\">\n",
       "  <thead>\n",
       "    <tr style=\"text-align: right;\">\n",
       "      <th></th>\n",
       "      <th>Crossing</th>\n",
       "      <th>Finishing</th>\n",
       "      <th>HeadingAccuracy</th>\n",
       "      <th>ShortPassing</th>\n",
       "      <th>Volleys</th>\n",
       "      <th>Dribbling</th>\n",
       "      <th>Curve</th>\n",
       "      <th>FKAccuracy</th>\n",
       "      <th>LongPassing</th>\n",
       "      <th>BallControl</th>\n",
       "      <th>...</th>\n",
       "      <th>LongShots</th>\n",
       "      <th>Aggression</th>\n",
       "      <th>Interceptions</th>\n",
       "      <th>Positioning</th>\n",
       "      <th>Vision</th>\n",
       "      <th>Penalties</th>\n",
       "      <th>Composure</th>\n",
       "      <th>StandingTackle</th>\n",
       "      <th>SlidingTackle</th>\n",
       "      <th>Rank</th>\n",
       "    </tr>\n",
       "  </thead>\n",
       "  <tbody>\n",
       "    <tr>\n",
       "      <th>0</th>\n",
       "      <td>77.0</td>\n",
       "      <td>94.0</td>\n",
       "      <td>77.0</td>\n",
       "      <td>83.0</td>\n",
       "      <td>88.0</td>\n",
       "      <td>86.0</td>\n",
       "      <td>86.0</td>\n",
       "      <td>84.0</td>\n",
       "      <td>64.0</td>\n",
       "      <td>91.0</td>\n",
       "      <td>...</td>\n",
       "      <td>86.0</td>\n",
       "      <td>78.0</td>\n",
       "      <td>41.0</td>\n",
       "      <td>92.0</td>\n",
       "      <td>84.0</td>\n",
       "      <td>85.0</td>\n",
       "      <td>83.0</td>\n",
       "      <td>45.0</td>\n",
       "      <td>38.0</td>\n",
       "      <td>Gold</td>\n",
       "    </tr>\n",
       "    <tr>\n",
       "      <th>1</th>\n",
       "      <td>73.0</td>\n",
       "      <td>76.0</td>\n",
       "      <td>59.0</td>\n",
       "      <td>84.0</td>\n",
       "      <td>75.0</td>\n",
       "      <td>80.0</td>\n",
       "      <td>73.0</td>\n",
       "      <td>68.0</td>\n",
       "      <td>81.0</td>\n",
       "      <td>85.0</td>\n",
       "      <td>...</td>\n",
       "      <td>86.0</td>\n",
       "      <td>88.0</td>\n",
       "      <td>86.0</td>\n",
       "      <td>88.0</td>\n",
       "      <td>76.0</td>\n",
       "      <td>63.0</td>\n",
       "      <td>85.0</td>\n",
       "      <td>85.0</td>\n",
       "      <td>88.0</td>\n",
       "      <td>Gold</td>\n",
       "    </tr>\n",
       "    <tr>\n",
       "      <th>2</th>\n",
       "      <td>76.0</td>\n",
       "      <td>77.0</td>\n",
       "      <td>81.0</td>\n",
       "      <td>84.0</td>\n",
       "      <td>78.0</td>\n",
       "      <td>76.0</td>\n",
       "      <td>76.0</td>\n",
       "      <td>68.0</td>\n",
       "      <td>82.0</td>\n",
       "      <td>83.0</td>\n",
       "      <td>...</td>\n",
       "      <td>85.0</td>\n",
       "      <td>91.0</td>\n",
       "      <td>89.0</td>\n",
       "      <td>80.0</td>\n",
       "      <td>80.0</td>\n",
       "      <td>84.0</td>\n",
       "      <td>86.0</td>\n",
       "      <td>89.0</td>\n",
       "      <td>84.0</td>\n",
       "      <td>Gold</td>\n",
       "    </tr>\n",
       "    <tr>\n",
       "      <th>3</th>\n",
       "      <td>82.0</td>\n",
       "      <td>63.0</td>\n",
       "      <td>75.0</td>\n",
       "      <td>83.0</td>\n",
       "      <td>68.0</td>\n",
       "      <td>79.0</td>\n",
       "      <td>78.0</td>\n",
       "      <td>83.0</td>\n",
       "      <td>80.0</td>\n",
       "      <td>83.0</td>\n",
       "      <td>...</td>\n",
       "      <td>83.0</td>\n",
       "      <td>69.0</td>\n",
       "      <td>85.0</td>\n",
       "      <td>77.0</td>\n",
       "      <td>78.0</td>\n",
       "      <td>80.0</td>\n",
       "      <td>79.0</td>\n",
       "      <td>83.0</td>\n",
       "      <td>83.0</td>\n",
       "      <td>Gold</td>\n",
       "    </tr>\n",
       "    <tr>\n",
       "      <th>4</th>\n",
       "      <td>78.0</td>\n",
       "      <td>71.0</td>\n",
       "      <td>73.0</td>\n",
       "      <td>85.0</td>\n",
       "      <td>84.0</td>\n",
       "      <td>89.0</td>\n",
       "      <td>84.0</td>\n",
       "      <td>82.0</td>\n",
       "      <td>88.0</td>\n",
       "      <td>90.0</td>\n",
       "      <td>...</td>\n",
       "      <td>87.0</td>\n",
       "      <td>72.0</td>\n",
       "      <td>70.0</td>\n",
       "      <td>84.0</td>\n",
       "      <td>87.0</td>\n",
       "      <td>76.0</td>\n",
       "      <td>83.0</td>\n",
       "      <td>73.0</td>\n",
       "      <td>73.0</td>\n",
       "      <td>Gold</td>\n",
       "    </tr>\n",
       "    <tr>\n",
       "      <th>...</th>\n",
       "      <td>...</td>\n",
       "      <td>...</td>\n",
       "      <td>...</td>\n",
       "      <td>...</td>\n",
       "      <td>...</td>\n",
       "      <td>...</td>\n",
       "      <td>...</td>\n",
       "      <td>...</td>\n",
       "      <td>...</td>\n",
       "      <td>...</td>\n",
       "      <td>...</td>\n",
       "      <td>...</td>\n",
       "      <td>...</td>\n",
       "      <td>...</td>\n",
       "      <td>...</td>\n",
       "      <td>...</td>\n",
       "      <td>...</td>\n",
       "      <td>...</td>\n",
       "      <td>...</td>\n",
       "      <td>...</td>\n",
       "      <td>...</td>\n",
       "    </tr>\n",
       "    <tr>\n",
       "      <th>87637</th>\n",
       "      <td>14.0</td>\n",
       "      <td>5.0</td>\n",
       "      <td>13.0</td>\n",
       "      <td>24.0</td>\n",
       "      <td>5.0</td>\n",
       "      <td>14.0</td>\n",
       "      <td>13.0</td>\n",
       "      <td>12.0</td>\n",
       "      <td>15.0</td>\n",
       "      <td>11.0</td>\n",
       "      <td>...</td>\n",
       "      <td>5.0</td>\n",
       "      <td>23.0</td>\n",
       "      <td>12.0</td>\n",
       "      <td>7.0</td>\n",
       "      <td>31.0</td>\n",
       "      <td>11.0</td>\n",
       "      <td>29.0</td>\n",
       "      <td>11.0</td>\n",
       "      <td>13.0</td>\n",
       "      <td>Bronze</td>\n",
       "    </tr>\n",
       "    <tr>\n",
       "      <th>87638</th>\n",
       "      <td>8.0</td>\n",
       "      <td>9.0</td>\n",
       "      <td>11.0</td>\n",
       "      <td>23.0</td>\n",
       "      <td>7.0</td>\n",
       "      <td>11.0</td>\n",
       "      <td>11.0</td>\n",
       "      <td>11.0</td>\n",
       "      <td>17.0</td>\n",
       "      <td>14.0</td>\n",
       "      <td>...</td>\n",
       "      <td>8.0</td>\n",
       "      <td>21.0</td>\n",
       "      <td>4.0</td>\n",
       "      <td>5.0</td>\n",
       "      <td>21.0</td>\n",
       "      <td>7.0</td>\n",
       "      <td>24.0</td>\n",
       "      <td>12.0</td>\n",
       "      <td>10.0</td>\n",
       "      <td>Bronze</td>\n",
       "    </tr>\n",
       "    <tr>\n",
       "      <th>87639</th>\n",
       "      <td>10.0</td>\n",
       "      <td>7.0</td>\n",
       "      <td>10.0</td>\n",
       "      <td>17.0</td>\n",
       "      <td>8.0</td>\n",
       "      <td>6.0</td>\n",
       "      <td>13.0</td>\n",
       "      <td>10.0</td>\n",
       "      <td>19.0</td>\n",
       "      <td>16.0</td>\n",
       "      <td>...</td>\n",
       "      <td>7.0</td>\n",
       "      <td>19.0</td>\n",
       "      <td>10.0</td>\n",
       "      <td>6.0</td>\n",
       "      <td>12.0</td>\n",
       "      <td>13.0</td>\n",
       "      <td>30.0</td>\n",
       "      <td>10.0</td>\n",
       "      <td>11.0</td>\n",
       "      <td>Bronze</td>\n",
       "    </tr>\n",
       "    <tr>\n",
       "      <th>87640</th>\n",
       "      <td>10.0</td>\n",
       "      <td>7.0</td>\n",
       "      <td>11.0</td>\n",
       "      <td>19.0</td>\n",
       "      <td>7.0</td>\n",
       "      <td>10.0</td>\n",
       "      <td>13.0</td>\n",
       "      <td>10.0</td>\n",
       "      <td>18.0</td>\n",
       "      <td>12.0</td>\n",
       "      <td>...</td>\n",
       "      <td>6.0</td>\n",
       "      <td>18.0</td>\n",
       "      <td>9.0</td>\n",
       "      <td>6.0</td>\n",
       "      <td>21.0</td>\n",
       "      <td>14.0</td>\n",
       "      <td>20.0</td>\n",
       "      <td>10.0</td>\n",
       "      <td>10.0</td>\n",
       "      <td>Bronze</td>\n",
       "    </tr>\n",
       "    <tr>\n",
       "      <th>87641</th>\n",
       "      <td>10.0</td>\n",
       "      <td>6.0</td>\n",
       "      <td>10.0</td>\n",
       "      <td>25.0</td>\n",
       "      <td>6.0</td>\n",
       "      <td>12.0</td>\n",
       "      <td>13.0</td>\n",
       "      <td>10.0</td>\n",
       "      <td>20.0</td>\n",
       "      <td>17.0</td>\n",
       "      <td>...</td>\n",
       "      <td>5.0</td>\n",
       "      <td>17.0</td>\n",
       "      <td>5.0</td>\n",
       "      <td>3.0</td>\n",
       "      <td>28.0</td>\n",
       "      <td>16.0</td>\n",
       "      <td>23.0</td>\n",
       "      <td>10.0</td>\n",
       "      <td>11.0</td>\n",
       "      <td>Bronze</td>\n",
       "    </tr>\n",
       "  </tbody>\n",
       "</table>\n",
       "<p>86935 rows × 29 columns</p>\n",
       "</div>"
      ],
      "text/plain": [
       "       Crossing  Finishing  HeadingAccuracy  ShortPassing  Volleys  Dribbling  \\\n",
       "0          77.0       94.0             77.0          83.0     88.0       86.0   \n",
       "1          73.0       76.0             59.0          84.0     75.0       80.0   \n",
       "2          76.0       77.0             81.0          84.0     78.0       76.0   \n",
       "3          82.0       63.0             75.0          83.0     68.0       79.0   \n",
       "4          78.0       71.0             73.0          85.0     84.0       89.0   \n",
       "...         ...        ...              ...           ...      ...        ...   \n",
       "87637      14.0        5.0             13.0          24.0      5.0       14.0   \n",
       "87638       8.0        9.0             11.0          23.0      7.0       11.0   \n",
       "87639      10.0        7.0             10.0          17.0      8.0        6.0   \n",
       "87640      10.0        7.0             11.0          19.0      7.0       10.0   \n",
       "87641      10.0        6.0             10.0          25.0      6.0       12.0   \n",
       "\n",
       "       Curve  FKAccuracy  LongPassing  BallControl  ...  LongShots  \\\n",
       "0       86.0        84.0         64.0         91.0  ...       86.0   \n",
       "1       73.0        68.0         81.0         85.0  ...       86.0   \n",
       "2       76.0        68.0         82.0         83.0  ...       85.0   \n",
       "3       78.0        83.0         80.0         83.0  ...       83.0   \n",
       "4       84.0        82.0         88.0         90.0  ...       87.0   \n",
       "...      ...         ...          ...          ...  ...        ...   \n",
       "87637   13.0        12.0         15.0         11.0  ...        5.0   \n",
       "87638   11.0        11.0         17.0         14.0  ...        8.0   \n",
       "87639   13.0        10.0         19.0         16.0  ...        7.0   \n",
       "87640   13.0        10.0         18.0         12.0  ...        6.0   \n",
       "87641   13.0        10.0         20.0         17.0  ...        5.0   \n",
       "\n",
       "       Aggression  Interceptions  Positioning  Vision  Penalties  Composure  \\\n",
       "0            78.0           41.0         92.0    84.0       85.0       83.0   \n",
       "1            88.0           86.0         88.0    76.0       63.0       85.0   \n",
       "2            91.0           89.0         80.0    80.0       84.0       86.0   \n",
       "3            69.0           85.0         77.0    78.0       80.0       79.0   \n",
       "4            72.0           70.0         84.0    87.0       76.0       83.0   \n",
       "...           ...            ...          ...     ...        ...        ...   \n",
       "87637        23.0           12.0          7.0    31.0       11.0       29.0   \n",
       "87638        21.0            4.0          5.0    21.0        7.0       24.0   \n",
       "87639        19.0           10.0          6.0    12.0       13.0       30.0   \n",
       "87640        18.0            9.0          6.0    21.0       14.0       20.0   \n",
       "87641        17.0            5.0          3.0    28.0       16.0       23.0   \n",
       "\n",
       "       StandingTackle  SlidingTackle    Rank  \n",
       "0                45.0           38.0    Gold  \n",
       "1                85.0           88.0    Gold  \n",
       "2                89.0           84.0    Gold  \n",
       "3                83.0           83.0    Gold  \n",
       "4                73.0           73.0    Gold  \n",
       "...               ...            ...     ...  \n",
       "87637            11.0           13.0  Bronze  \n",
       "87638            12.0           10.0  Bronze  \n",
       "87639            10.0           11.0  Bronze  \n",
       "87640            10.0           10.0  Bronze  \n",
       "87641            10.0           11.0  Bronze  \n",
       "\n",
       "[86935 rows x 29 columns]"
      ]
     },
     "execution_count": 41,
     "metadata": {},
     "output_type": "execute_result"
    }
   ],
   "source": [
    "bins = [-1, 64, 74, 100]\n",
    "labels = [\"Bronze\", \"Silver\", \"Gold\"]\n",
    "old_raw_data[\"Rank\"] = pd.cut(old_raw_data[\"Overall\"], bins=bins, labels=labels, include_lowest=True)\n",
    "old_raw_data = old_raw_data.drop([\"Overall\"], axis=1, inplace=False)\n",
    "\n",
    "old_raw_data"
   ]
  },
  {
   "cell_type": "markdown",
   "id": "8f046282be0ab34b",
   "metadata": {
    "collapsed": false
   },
   "source": [
    "The task consists of two classifiers. One can be though of as the efficient one, where the learning process as well as the\n",
    "predictions will be performed once on default settings. We will use it as a baseline later when comparing it with a hyperparameters\n",
    "tuning approach.\n",
    "\n",
    "We split the data into the train and test datasets, used for training on the dataset and validating the accuracy of the classifier respectively."
   ]
  },
  {
   "cell_type": "code",
   "execution_count": 42,
   "id": "c9c3d45642fe1c3f",
   "metadata": {
    "ExecuteTime": {
     "end_time": "2023-11-23T21:35:35.705382400Z",
     "start_time": "2023-11-23T21:35:35.683745500Z"
    },
    "collapsed": false
   },
   "outputs": [],
   "source": [
    "from sklearn.ensemble import RandomForestClassifier\n",
    "from sklearn.metrics import accuracy_score, classification_report\n",
    "from sklearn.model_selection import train_test_split\n",
    "\n",
    "X = old_raw_data.drop(\"Rank\", axis=1)\n",
    "y = old_raw_data[\"Rank\"]\n",
    "\n",
    "X_train, X_test, y_train, y_test = train_test_split(X, y, test_size=0.2, random_state=42)"
   ]
  },
  {
   "cell_type": "markdown",
   "id": "7f5b827732f46dd0",
   "metadata": {
    "collapsed": false
   },
   "source": [
    "We fit the train data to the classifier."
   ]
  },
  {
   "cell_type": "code",
   "execution_count": 43,
   "id": "3a7ad042cbfceda0",
   "metadata": {
    "ExecuteTime": {
     "end_time": "2023-11-23T21:35:50.585916600Z",
     "start_time": "2023-11-23T21:35:35.703382100Z"
    },
    "collapsed": false
   },
   "outputs": [
    {
     "data": {
      "text/html": [
       "<style>#sk-container-id-4 {color: black;}#sk-container-id-4 pre{padding: 0;}#sk-container-id-4 div.sk-toggleable {background-color: white;}#sk-container-id-4 label.sk-toggleable__label {cursor: pointer;display: block;width: 100%;margin-bottom: 0;padding: 0.3em;box-sizing: border-box;text-align: center;}#sk-container-id-4 label.sk-toggleable__label-arrow:before {content: \"▸\";float: left;margin-right: 0.25em;color: #696969;}#sk-container-id-4 label.sk-toggleable__label-arrow:hover:before {color: black;}#sk-container-id-4 div.sk-estimator:hover label.sk-toggleable__label-arrow:before {color: black;}#sk-container-id-4 div.sk-toggleable__content {max-height: 0;max-width: 0;overflow: hidden;text-align: left;background-color: #f0f8ff;}#sk-container-id-4 div.sk-toggleable__content pre {margin: 0.2em;color: black;border-radius: 0.25em;background-color: #f0f8ff;}#sk-container-id-4 input.sk-toggleable__control:checked~div.sk-toggleable__content {max-height: 200px;max-width: 100%;overflow: auto;}#sk-container-id-4 input.sk-toggleable__control:checked~label.sk-toggleable__label-arrow:before {content: \"▾\";}#sk-container-id-4 div.sk-estimator input.sk-toggleable__control:checked~label.sk-toggleable__label {background-color: #d4ebff;}#sk-container-id-4 div.sk-label input.sk-toggleable__control:checked~label.sk-toggleable__label {background-color: #d4ebff;}#sk-container-id-4 input.sk-hidden--visually {border: 0;clip: rect(1px 1px 1px 1px);clip: rect(1px, 1px, 1px, 1px);height: 1px;margin: -1px;overflow: hidden;padding: 0;position: absolute;width: 1px;}#sk-container-id-4 div.sk-estimator {font-family: monospace;background-color: #f0f8ff;border: 1px dotted black;border-radius: 0.25em;box-sizing: border-box;margin-bottom: 0.5em;}#sk-container-id-4 div.sk-estimator:hover {background-color: #d4ebff;}#sk-container-id-4 div.sk-parallel-item::after {content: \"\";width: 100%;border-bottom: 1px solid gray;flex-grow: 1;}#sk-container-id-4 div.sk-label:hover label.sk-toggleable__label {background-color: #d4ebff;}#sk-container-id-4 div.sk-serial::before {content: \"\";position: absolute;border-left: 1px solid gray;box-sizing: border-box;top: 0;bottom: 0;left: 50%;z-index: 0;}#sk-container-id-4 div.sk-serial {display: flex;flex-direction: column;align-items: center;background-color: white;padding-right: 0.2em;padding-left: 0.2em;position: relative;}#sk-container-id-4 div.sk-item {position: relative;z-index: 1;}#sk-container-id-4 div.sk-parallel {display: flex;align-items: stretch;justify-content: center;background-color: white;position: relative;}#sk-container-id-4 div.sk-item::before, #sk-container-id-4 div.sk-parallel-item::before {content: \"\";position: absolute;border-left: 1px solid gray;box-sizing: border-box;top: 0;bottom: 0;left: 50%;z-index: -1;}#sk-container-id-4 div.sk-parallel-item {display: flex;flex-direction: column;z-index: 1;position: relative;background-color: white;}#sk-container-id-4 div.sk-parallel-item:first-child::after {align-self: flex-end;width: 50%;}#sk-container-id-4 div.sk-parallel-item:last-child::after {align-self: flex-start;width: 50%;}#sk-container-id-4 div.sk-parallel-item:only-child::after {width: 0;}#sk-container-id-4 div.sk-dashed-wrapped {border: 1px dashed gray;margin: 0 0.4em 0.5em 0.4em;box-sizing: border-box;padding-bottom: 0.4em;background-color: white;}#sk-container-id-4 div.sk-label label {font-family: monospace;font-weight: bold;display: inline-block;line-height: 1.2em;}#sk-container-id-4 div.sk-label-container {text-align: center;}#sk-container-id-4 div.sk-container {/* jupyter's `normalize.less` sets `[hidden] { display: none; }` but bootstrap.min.css set `[hidden] { display: none !important; }` so we also need the `!important` here to be able to override the default hidden behavior on the sphinx rendered scikit-learn.org. See: https://github.com/scikit-learn/scikit-learn/issues/21755 */display: inline-block !important;position: relative;}#sk-container-id-4 div.sk-text-repr-fallback {display: none;}</style><div id=\"sk-container-id-4\" class=\"sk-top-container\"><div class=\"sk-text-repr-fallback\"><pre>RandomForestClassifier(random_state=42)</pre><b>In a Jupyter environment, please rerun this cell to show the HTML representation or trust the notebook. <br />On GitHub, the HTML representation is unable to render, please try loading this page with nbviewer.org.</b></div><div class=\"sk-container\" hidden><div class=\"sk-item\"><div class=\"sk-estimator sk-toggleable\"><input class=\"sk-toggleable__control sk-hidden--visually\" id=\"sk-estimator-id-4\" type=\"checkbox\" checked><label for=\"sk-estimator-id-4\" class=\"sk-toggleable__label sk-toggleable__label-arrow\">RandomForestClassifier</label><div class=\"sk-toggleable__content\"><pre>RandomForestClassifier(random_state=42)</pre></div></div></div></div></div>"
      ],
      "text/plain": [
       "RandomForestClassifier(random_state=42)"
      ]
     },
     "execution_count": 43,
     "metadata": {},
     "output_type": "execute_result"
    }
   ],
   "source": [
    "rfc = RandomForestClassifier(random_state=42)\n",
    "rfc.fit(X_train, y_train)"
   ]
  },
  {
   "cell_type": "markdown",
   "id": "eab43c3075560881",
   "metadata": {
    "collapsed": false
   },
   "source": [
    "We predict the test data and compare the predictions to the actual classes in the test data. "
   ]
  },
  {
   "cell_type": "code",
   "execution_count": 44,
   "id": "79130a6b42ebff83",
   "metadata": {
    "ExecuteTime": {
     "end_time": "2023-11-23T21:35:51.013603900Z",
     "start_time": "2023-11-23T21:35:50.587423800Z"
    },
    "collapsed": false
   },
   "outputs": [
    {
     "name": "stdout",
     "output_type": "stream",
     "text": [
      "Accuracy:  0.93\n",
      "Classification report:\n",
      "              precision    recall  f1-score   support\n",
      "\n",
      "      Bronze       0.94      0.94      0.94      6775\n",
      "        Gold       0.94      0.90      0.92      2105\n",
      "      Silver       0.93      0.94      0.93      8507\n",
      "\n",
      "    accuracy                           0.93     17387\n",
      "   macro avg       0.94      0.93      0.93     17387\n",
      "weighted avg       0.93      0.93      0.93     17387\n"
     ]
    }
   ],
   "source": [
    "y_pred = rfc.predict(X_test)\n",
    "\n",
    "rfc_accuracy = accuracy_score(y_test, y_pred)\n",
    "print(f\"Accuracy: {rfc_accuracy: .2f}\")\n",
    "\n",
    "print(\"Classification report:\")\n",
    "print(classification_report(y_test, y_pred))"
   ]
  },
  {
   "cell_type": "markdown",
   "id": "d0055251b5f9e64f",
   "metadata": {
    "collapsed": false
   },
   "source": [
    "This approach yields a 93% accuracy score which is already high. \n",
    "\n",
    "We can look more in depth into the scoring process by making a confusion matrix which will count how many times\n",
    "each class was predicted for each actual class. We can then plot it as a heatmap using seaborn library to obtain\n",
    "more detailed prediction results."
   ]
  },
  {
   "cell_type": "code",
   "execution_count": 45,
   "id": "740cc3b670b21391",
   "metadata": {
    "ExecuteTime": {
     "end_time": "2023-11-23T21:35:51.135255600Z",
     "start_time": "2023-11-23T21:35:51.009597800Z"
    },
    "collapsed": false
   },
   "outputs": [
    {
     "data": {
      "image/png": "[encoded data removed]",
      "text/plain": [
       "<Figure size 640x480 with 1 Axes>"
      ]
     },
     "metadata": {},
     "output_type": "display_data"
    }
   ],
   "source": [
    "from sklearn.metrics import confusion_matrix\n",
    "\n",
    "conf_matrix = confusion_matrix(y_test, y_pred)\n",
    "sns.heatmap(conf_matrix, annot=True, fmt=\"d\", cmap=\"Blues\", cbar=False)\n",
    "plt.xlabel(\"Predicted label\")\n",
    "plt.ylabel(\"True label\")\n",
    "plt.title(\"Confusion matrix\")\n",
    "plt.show();"
   ]
  },
  {
   "cell_type": "markdown",
   "id": "c51b9ec14d3dfaeb",
   "metadata": {
    "collapsed": false
   },
   "source": [
    "Here we can observe some unique behaviours, namely there were no Bronze-Silver classification mistakes, while both Bronze and Silver\n",
    "classes have experienced Bronze-Gold and Silver-Gold classification mistakes respectively. \n",
    "\n",
    "This part is only my speculation, but the league in which a player plays seems to affect their card colour as well as the overall score,\n",
    "for gold players this might introduce some bias for a better card colour for weak players who are a part of a strong club,\n",
    "but never play in their games.\n",
    "\n",
    "We will now perform the exact same steps on the predictions dataset as the testing dataset. In the real world this dataset would\n",
    "be without already assigned classes and the accuracy of these prediction would not be known. The accuracy would be assumed \n",
    "to be similar to the accuracy of the test dataset (assuming correct data preparation, model selection and training process).\n",
    "But we get the luxury of verifying the scores with the already known answers again."
   ]
  },
  {
   "cell_type": "code",
   "execution_count": 46,
   "id": "790fad659e84560e",
   "metadata": {
    "ExecuteTime": {
     "end_time": "2023-11-23T21:35:51.233955700Z",
     "start_time": "2023-11-23T21:35:51.115237200Z"
    },
    "collapsed": false
   },
   "outputs": [],
   "source": [
    "pred_data = pd.read_csv(\"data/FIFA22_official_data.csv\")\n",
    "\n",
    "pred_data.drop(pred_data[pred_data[\"Position\"] == \"GK\"].index, inplace=True)\n",
    "pred_data = pred_data.drop([\"Photo\", \"Flag\", \"Club Logo\", \"Special\", \"International Reputation\", \"Body Type\", \"Real Face\", \"Joined\",\n",
    "                                  \"Loaned From\",\"Contract Valid Until\", \"Release Clause\", \"Best Position\", \"Best Overall Rating\", \"Potential\",\n",
    "                                  \"ID\", \"Name\", \"Nationality\", \"Club\", \"Value\", \"Wage\", \"Preferred Foot\", \"Weak Foot\", \"Skill Moves\",\n",
    "                                  \"Work Rate\", \"Jersey Number\", \"Height\", \"Weight\", \"Position\", \"Age\", \"Marking\", \"GKDiving\", \"GKHandling\",\n",
    "                                  \"GKKicking\", \"GKPositioning\", \"GKReflexes\", \"DefensiveAwareness\"],\n",
    "                                 axis=1, inplace=False)\n",
    "pred_data.dropna(inplace=True)\n",
    "\n",
    "pred_data[\"Rank\"] = pd.cut(pred_data[\"Overall\"], bins=bins, labels=labels, include_lowest=True)\n",
    "pred_data = pred_data.drop([\"Overall\"], axis=1, inplace=False)\n",
    "\n",
    "X_pred = pred_data.drop(\"Rank\", axis=1)\n",
    "labels = pred_data[\"Rank\"]"
   ]
  },
  {
   "cell_type": "code",
   "execution_count": 47,
   "id": "a8dde0baf016e996",
   "metadata": {
    "ExecuteTime": {
     "end_time": "2023-11-23T21:35:51.574705800Z",
     "start_time": "2023-11-23T21:35:51.215934800Z"
    },
    "collapsed": false
   },
   "outputs": [
    {
     "name": "stdout",
     "output_type": "stream",
     "text": [
      "Accuracy:  0.93\n",
      "Classification report:\n",
      "              precision    recall  f1-score   support\n",
      "\n",
      "      Bronze       0.93      0.91      0.92      5126\n",
      "        Gold       0.91      0.92      0.92      2265\n",
      "      Silver       0.93      0.94      0.94      9068\n",
      "\n",
      "    accuracy                           0.93     16459\n",
      "   macro avg       0.93      0.92      0.93     16459\n",
      "weighted avg       0.93      0.93      0.93     16459\n"
     ]
    }
   ],
   "source": [
    "y_pred = rfc.predict(X_pred)\n",
    "\n",
    "rfc_accuracy = accuracy_score(labels, y_pred)\n",
    "print(f\"Accuracy: {rfc_accuracy: .2f}\")\n",
    "\n",
    "print(\"Classification report:\")\n",
    "print(classification_report(labels, y_pred))"
   ]
  },
  {
   "cell_type": "markdown",
   "id": "a5ed562676baf7de",
   "metadata": {
    "collapsed": false
   },
   "source": [
    "We find the same overall accuracy of 93%, which is good."
   ]
  },
  {
   "cell_type": "code",
   "execution_count": 48,
   "id": "7e255f2fca3af66e",
   "metadata": {
    "ExecuteTime": {
     "end_time": "2023-11-23T21:35:51.645480200Z",
     "start_time": "2023-11-23T21:35:51.571705900Z"
    },
    "collapsed": false
   },
   "outputs": [
    {
     "data": {
      "image/png": "[encoded data removed]",
      "text/plain": [
       "<Figure size 640x480 with 1 Axes>"
      ]
     },
     "metadata": {},
     "output_type": "display_data"
    }
   ],
   "source": [
    "conf_matrix = confusion_matrix(labels, y_pred)\n",
    "sns.heatmap(conf_matrix, annot=True, fmt=\"d\", cmap=\"Blues\", cbar=False)\n",
    "plt.xlabel(\"Predicted label\")\n",
    "plt.ylabel(\"True label\")\n",
    "plt.title(\"Confusion matrix\")\n",
    "plt.show();"
   ]
  },
  {
   "cell_type": "markdown",
   "id": "ddc38cd02e5c3a92",
   "metadata": {
    "collapsed": false
   },
   "source": [
    "Moreover, we find that most of the same trends as with the training and testing data still apply, although there was one \n",
    "Silver-Bronze classification mistake.\n",
    "\n",
    "For a method which uses very little resources it is still a relatively good result.\n",
    "Now we will repeat the process but instead of fitting the model once on default settings we will fit a range of models\n",
    "with different settings (hyperparameters) in order to find the best one which will be used later to classify the 'predictions' dataset."
   ]
  },
  {
   "cell_type": "code",
   "execution_count": 24,
   "id": "336ffffba9134d92",
   "metadata": {
    "ExecuteTime": {
     "end_time": "2024-01-13T01:03:44.686082776Z",
     "start_time": "2023-11-23T21:35:51.641480300Z"
    },
    "collapsed": false
   },
   "outputs": [
    {
     "name": "stdout",
     "output_type": "stream",
     "text": [
      "Fitting 4 folds for each of 3 candidates, totalling 12 fits\n",
      "Best Hyperparameters:  {'n_estimators': 1048, 'max_depth': 63}\n",
      "Cross-Validation Scores: [0.9325358  0.93483637 0.93075286 0.93006269]\n",
      "Mean CV Score: 0.93%\n",
      "[CV] END .....................max_depth=16, n_estimators=228; total time=  59.6s\n",
      "[CV] END .....................max_depth=16, n_estimators=228; total time= 1.0min\n",
      "[CV] END .....................max_depth=16, n_estimators=228; total time= 1.0min\n",
      "[CV] END .....................max_depth=16, n_estimators=228; total time= 1.0min\n",
      "Best Hyperparameters:  {'n_estimators': 1048, 'max_depth': 63}\n",
      "[CV] END .....................max_depth=36, n_estimators=694; total time= 3.0min\n",
      "[CV] END .....................max_depth=36, n_estimators=694; total time= 3.1min\n",
      "[CV] END .....................max_depth=36, n_estimators=694; total time= 3.1min\n",
      "[CV] END .....................max_depth=36, n_estimators=694; total time= 3.1min\n",
      "[CV] END ....................max_depth=63, n_estimators=1048; total time= 4.2min\n",
      "[CV] END ....................max_depth=63, n_estimators=1048; total time= 4.2min\n",
      "[CV] END ....................max_depth=63, n_estimators=1048; total time= 4.2min\n",
      "[CV] END ....................max_depth=63, n_estimators=1048; total time= 4.2min\n",
      "Cross-Validation Scores: [0.9325358  0.93483637 0.93075286 0.93006269]\n",
      "Mean CV Score: 0.93%\n"
     ]
    }
   ],
   "source": [
    "from sklearn.model_selection import RandomizedSearchCV, cross_val_score\n",
    "\n",
    "param_dist = {\n",
    "    \"n_estimators\": [int(x) for x in np.linspace(start=200, stop=1600, num=100)],\n",
    "    \"max_depth\": [int(x) for x in np.linspace(10, 70, num=10)]\n",
    "}\n",
    "\n",
    "random_search = RandomizedSearchCV(rfc, param_distributions=param_dist, n_iter=3, cv=4, verbose=2, random_state=42, n_jobs=-1)\n",
    "\n",
    "random_search.fit(X_train, y_train)\n",
    "\n",
    "print(\"Best Hyperparameters: \", random_search.best_params_)\n",
    "\n",
    "best_rfc = random_search.best_estimator_\n",
    "cv_scores = cross_val_score(best_rfc, X_train, y_train, cv=4)\n",
    "print(f\"Cross-Validation Scores: {cv_scores}\")\n",
    "print(f\"Mean CV Score: {np.mean(cv_scores):.2f}%\")"
   ]
  },
  {
   "cell_type": "markdown",
   "id": "87f69086e136cea1",
   "metadata": {
    "collapsed": false
   },
   "source": [
    "This method is much more resource intensive and its resource usage is relative to the number of classifiers tested.\n",
    "\n",
    "While the fitting of the default model takes less than 20 seconds, here the cross-validation of the models takes more than 10 minutes.\n",
    "We can already observe that even the best model ({'n_estimators': 1048, 'max_depth': 63}) does not perform better than the default one.\n",
    "With such a massive increase in cost and no increase in performance, there is no clear justification as to why continue, but for completeness,\n",
    "we will proceed and compare the results."
   ]
  },
  {
   "cell_type": "code",
   "execution_count": 25,
   "id": "da563ec003204008",
   "metadata": {
    "ExecuteTime": {
     "end_time": "2024-01-13T01:07:25.707231720Z",
     "start_time": "2024-01-13T01:03:44.685913495Z"
    },
    "collapsed": false
   },
   "outputs": [
    {
     "data": {
      "text/html": [
       "<style>#sk-container-id-5 {color: black;}#sk-container-id-5 pre{padding: 0;}#sk-container-id-5 div.sk-toggleable {background-color: white;}#sk-container-id-5 label.sk-toggleable__label {cursor: pointer;display: block;width: 100%;margin-bottom: 0;padding: 0.3em;box-sizing: border-box;text-align: center;}#sk-container-id-5 label.sk-toggleable__label-arrow:before {content: \"▸\";float: left;margin-right: 0.25em;color: #696969;}#sk-container-id-5 label.sk-toggleable__label-arrow:hover:before {color: black;}#sk-container-id-5 div.sk-estimator:hover label.sk-toggleable__label-arrow:before {color: black;}#sk-container-id-5 div.sk-toggleable__content {max-height: 0;max-width: 0;overflow: hidden;text-align: left;background-color: #f0f8ff;}#sk-container-id-5 div.sk-toggleable__content pre {margin: 0.2em;color: black;border-radius: 0.25em;background-color: #f0f8ff;}#sk-container-id-5 input.sk-toggleable__control:checked~div.sk-toggleable__content {max-height: 200px;max-width: 100%;overflow: auto;}#sk-container-id-5 input.sk-toggleable__control:checked~label.sk-toggleable__label-arrow:before {content: \"▾\";}#sk-container-id-5 div.sk-estimator input.sk-toggleable__control:checked~label.sk-toggleable__label {background-color: #d4ebff;}#sk-container-id-5 div.sk-label input.sk-toggleable__control:checked~label.sk-toggleable__label {background-color: #d4ebff;}#sk-container-id-5 input.sk-hidden--visually {border: 0;clip: rect(1px 1px 1px 1px);clip: rect(1px, 1px, 1px, 1px);height: 1px;margin: -1px;overflow: hidden;padding: 0;position: absolute;width: 1px;}#sk-container-id-5 div.sk-estimator {font-family: monospace;background-color: #f0f8ff;border: 1px dotted black;border-radius: 0.25em;box-sizing: border-box;margin-bottom: 0.5em;}#sk-container-id-5 div.sk-estimator:hover {background-color: #d4ebff;}#sk-container-id-5 div.sk-parallel-item::after {content: \"\";width: 100%;border-bottom: 1px solid gray;flex-grow: 1;}#sk-container-id-5 div.sk-label:hover label.sk-toggleable__label {background-color: #d4ebff;}#sk-container-id-5 div.sk-serial::before {content: \"\";position: absolute;border-left: 1px solid gray;box-sizing: border-box;top: 0;bottom: 0;left: 50%;z-index: 0;}#sk-container-id-5 div.sk-serial {display: flex;flex-direction: column;align-items: center;background-color: white;padding-right: 0.2em;padding-left: 0.2em;position: relative;}#sk-container-id-5 div.sk-item {position: relative;z-index: 1;}#sk-container-id-5 div.sk-parallel {display: flex;align-items: stretch;justify-content: center;background-color: white;position: relative;}#sk-container-id-5 div.sk-item::before, #sk-container-id-5 div.sk-parallel-item::before {content: \"\";position: absolute;border-left: 1px solid gray;box-sizing: border-box;top: 0;bottom: 0;left: 50%;z-index: -1;}#sk-container-id-5 div.sk-parallel-item {display: flex;flex-direction: column;z-index: 1;position: relative;background-color: white;}#sk-container-id-5 div.sk-parallel-item:first-child::after {align-self: flex-end;width: 50%;}#sk-container-id-5 div.sk-parallel-item:last-child::after {align-self: flex-start;width: 50%;}#sk-container-id-5 div.sk-parallel-item:only-child::after {width: 0;}#sk-container-id-5 div.sk-dashed-wrapped {border: 1px dashed gray;margin: 0 0.4em 0.5em 0.4em;box-sizing: border-box;padding-bottom: 0.4em;background-color: white;}#sk-container-id-5 div.sk-label label {font-family: monospace;font-weight: bold;display: inline-block;line-height: 1.2em;}#sk-container-id-5 div.sk-label-container {text-align: center;}#sk-container-id-5 div.sk-container {/* jupyter's `normalize.less` sets `[hidden] { display: none; }` but bootstrap.min.css set `[hidden] { display: none !important; }` so we also need the `!important` here to be able to override the default hidden behavior on the sphinx rendered scikit-learn.org. See: https://github.com/scikit-learn/scikit-learn/issues/21755 */display: inline-block !important;position: relative;}#sk-container-id-5 div.sk-text-repr-fallback {display: none;}</style><div id=\"sk-container-id-5\" class=\"sk-top-container\"><div class=\"sk-text-repr-fallback\"><pre>RandomForestClassifier(max_depth=63, n_estimators=1048, random_state=42)</pre><b>In a Jupyter environment, please rerun this cell to show the HTML representation or trust the notebook. <br />On GitHub, the HTML representation is unable to render, please try loading this page with nbviewer.org.</b></div><div class=\"sk-container\" hidden><div class=\"sk-item\"><div class=\"sk-estimator sk-toggleable\"><input class=\"sk-toggleable__control sk-hidden--visually\" id=\"sk-estimator-id-5\" type=\"checkbox\" checked><label for=\"sk-estimator-id-5\" class=\"sk-toggleable__label sk-toggleable__label-arrow\">RandomForestClassifier</label><div class=\"sk-toggleable__content\"><pre>RandomForestClassifier(max_depth=63, n_estimators=1048, random_state=42)</pre></div></div></div></div></div>"
      ],
      "text/plain": [
       "RandomForestClassifier(max_depth=63, n_estimators=1048, random_state=42)"
      ]
     },
     "execution_count": 50,
     "metadata": {},
     "output_type": "execute_result"
    },
    {
     "data": {
      "text/plain": "RandomForestClassifier(max_depth=63, n_estimators=1048, random_state=42)",
      "text/html": "<style>#sk-container-id-3 {color: black;}#sk-container-id-3 pre{padding: 0;}#sk-container-id-3 div.sk-toggleable {background-color: white;}#sk-container-id-3 label.sk-toggleable__label {cursor: pointer;display: block;width: 100%;margin-bottom: 0;padding: 0.3em;box-sizing: border-box;text-align: center;}#sk-container-id-3 label.sk-toggleable__label-arrow:before {content: \"▸\";float: left;margin-right: 0.25em;color: #696969;}#sk-container-id-3 label.sk-toggleable__label-arrow:hover:before {color: black;}#sk-container-id-3 div.sk-estimator:hover label.sk-toggleable__label-arrow:before {color: black;}#sk-container-id-3 div.sk-toggleable__content {max-height: 0;max-width: 0;overflow: hidden;text-align: left;background-color: #f0f8ff;}#sk-container-id-3 div.sk-toggleable__content pre {margin: 0.2em;color: black;border-radius: 0.25em;background-color: #f0f8ff;}#sk-container-id-3 input.sk-toggleable__control:checked~div.sk-toggleable__content {max-height: 200px;max-width: 100%;overflow: auto;}#sk-container-id-3 input.sk-toggleable__control:checked~label.sk-toggleable__label-arrow:before {content: \"▾\";}#sk-container-id-3 div.sk-estimator input.sk-toggleable__control:checked~label.sk-toggleable__label {background-color: #d4ebff;}#sk-container-id-3 div.sk-label input.sk-toggleable__control:checked~label.sk-toggleable__label {background-color: #d4ebff;}#sk-container-id-3 input.sk-hidden--visually {border: 0;clip: rect(1px 1px 1px 1px);clip: rect(1px, 1px, 1px, 1px);height: 1px;margin: -1px;overflow: hidden;padding: 0;position: absolute;width: 1px;}#sk-container-id-3 div.sk-estimator {font-family: monospace;background-color: #f0f8ff;border: 1px dotted black;border-radius: 0.25em;box-sizing: border-box;margin-bottom: 0.5em;}#sk-container-id-3 div.sk-estimator:hover {background-color: #d4ebff;}#sk-container-id-3 div.sk-parallel-item::after {content: \"\";width: 100%;border-bottom: 1px solid gray;flex-grow: 1;}#sk-container-id-3 div.sk-label:hover label.sk-toggleable__label {background-color: #d4ebff;}#sk-container-id-3 div.sk-serial::before {content: \"\";position: absolute;border-left: 1px solid gray;box-sizing: border-box;top: 0;bottom: 0;left: 50%;z-index: 0;}#sk-container-id-3 div.sk-serial {display: flex;flex-direction: column;align-items: center;background-color: white;padding-right: 0.2em;padding-left: 0.2em;position: relative;}#sk-container-id-3 div.sk-item {position: relative;z-index: 1;}#sk-container-id-3 div.sk-parallel {display: flex;align-items: stretch;justify-content: center;background-color: white;position: relative;}#sk-container-id-3 div.sk-item::before, #sk-container-id-3 div.sk-parallel-item::before {content: \"\";position: absolute;border-left: 1px solid gray;box-sizing: border-box;top: 0;bottom: 0;left: 50%;z-index: -1;}#sk-container-id-3 div.sk-parallel-item {display: flex;flex-direction: column;z-index: 1;position: relative;background-color: white;}#sk-container-id-3 div.sk-parallel-item:first-child::after {align-self: flex-end;width: 50%;}#sk-container-id-3 div.sk-parallel-item:last-child::after {align-self: flex-start;width: 50%;}#sk-container-id-3 div.sk-parallel-item:only-child::after {width: 0;}#sk-container-id-3 div.sk-dashed-wrapped {border: 1px dashed gray;margin: 0 0.4em 0.5em 0.4em;box-sizing: border-box;padding-bottom: 0.4em;background-color: white;}#sk-container-id-3 div.sk-label label {font-family: monospace;font-weight: bold;display: inline-block;line-height: 1.2em;}#sk-container-id-3 div.sk-label-container {text-align: center;}#sk-container-id-3 div.sk-container {/* jupyter's `normalize.less` sets `[hidden] { display: none; }` but bootstrap.min.css set `[hidden] { display: none !important; }` so we also need the `!important` here to be able to override the default hidden behavior on the sphinx rendered scikit-learn.org. See: https://github.com/scikit-learn/scikit-learn/issues/21755 */display: inline-block !important;position: relative;}#sk-container-id-3 div.sk-text-repr-fallback {display: none;}</style><div id=\"sk-container-id-3\" class=\"sk-top-container\"><div class=\"sk-text-repr-fallback\"><pre>RandomForestClassifier(max_depth=63, n_estimators=1048, random_state=42)</pre><b>In a Jupyter environment, please rerun this cell to show the HTML representation or trust the notebook. <br />On GitHub, the HTML representation is unable to render, please try loading this page with nbviewer.org.</b></div><div class=\"sk-container\" hidden><div class=\"sk-item\"><div class=\"sk-estimator sk-toggleable\"><input class=\"sk-toggleable__control sk-hidden--visually\" id=\"sk-estimator-id-3\" type=\"checkbox\" checked><label for=\"sk-estimator-id-3\" class=\"sk-toggleable__label sk-toggleable__label-arrow\">RandomForestClassifier</label><div class=\"sk-toggleable__content\"><pre>RandomForestClassifier(max_depth=63, n_estimators=1048, random_state=42)</pre></div></div></div></div></div>"
     },
     "execution_count": 25,
     "metadata": {},
     "output_type": "execute_result"
    }
   ],
   "source": [
    "best_rfc.fit(X_train, y_train)"
   ]
  },
  {
   "cell_type": "code",
   "execution_count": 26,
   "id": "47bf2c9a0729731a",
   "metadata": {
    "ExecuteTime": {
     "end_time": "2024-01-13T01:07:29.694638036Z",
     "start_time": "2024-01-13T01:07:25.709026350Z"
    },
    "collapsed": false
   },
   "outputs": [
    {
     "name": "stdout",
     "output_type": "stream",
     "text": [
      "Accuracy:  0.94\n",
      "Classification report:\n",
      "              precision    recall  f1-score   support\n",
      "\n",
      "      Bronze       0.94      0.94      0.94      6775\n",
      "        Gold       0.95      0.90      0.92      2105\n",
      "      Silver       0.93      0.94      0.94      8507\n",
      "\n",
      "    accuracy                           0.94     17387\n",
      "   macro avg       0.94      0.93      0.93     17387\n",
      "weighted avg       0.94      0.94      0.94     17387\n",
      "Accuracy:  0.94\n",
      "Classification report:\n",
      "              precision    recall  f1-score   support\n",
      "\n",
      "      Bronze       0.94      0.94      0.94      6775\n",
      "        Gold       0.95      0.90      0.92      2105\n",
      "      Silver       0.93      0.94      0.94      8507\n",
      "\n",
      "    accuracy                           0.94     17387\n",
      "   macro avg       0.94      0.93      0.93     17387\n",
      "weighted avg       0.94      0.94      0.94     17387\n"
     ]
    }
   ],
   "source": [
    "y_pred = best_rfc.predict(X_test)\n",
    "\n",
    "best_rfc_accuracy = accuracy_score(y_test, y_pred)\n",
    "print(f\"Accuracy: {best_rfc_accuracy: .2f}\")\n",
    "\n",
    "print(\"Classification report:\")\n",
    "print(classification_report(y_test, y_pred))"
   ]
  },
  {
   "cell_type": "markdown",
   "id": "e56c4fcaeac49370",
   "metadata": {
    "collapsed": false
   },
   "source": [
    "We find 1 percentage point of accuracy increase over the default model. If it is worth the additional cost is solely reliant on the context\n",
    "in which this classifier is used."
   ]
  },
  {
   "cell_type": "code",
   "execution_count": 27,
   "id": "4385dd8149d32e10",
   "metadata": {
    "ExecuteTime": {
     "end_time": "2024-01-13T01:07:29.924597880Z",
     "start_time": "2024-01-13T01:07:29.731173569Z"
    },
    "collapsed": false
   },
   "outputs": [
    {
     "data": {
      "image/png": "[encoded data removed]",
      "text/plain": [
       "<Figure size 640x480 with 1 Axes>"
      ]
     },
     "metadata": {},
     "output_type": "display_data"
    },
    {
     "data": {
      "text/plain": "<Figure size 640x480 with 1 Axes>",
      "image/png": "[encoded data removed]"
     },
     "metadata": {},
     "output_type": "display_data"
    }
   ],
   "source": [
    "conf_matrix = confusion_matrix(y_test, y_pred)\n",
    "sns.heatmap(conf_matrix, annot=True, fmt=\"d\", cmap=\"Blues\", cbar=False)\n",
    "plt.xlabel(\"Predicted label\")\n",
    "plt.ylabel(\"True label\")\n",
    "plt.title(\"Confusion matrix\")\n",
    "plt.show();"
   ]
  },
  {
   "cell_type": "markdown",
   "id": "b4329a229426479",
   "metadata": {
    "collapsed": false
   },
   "source": [
    "Looking at the detailed results, we find similar behaviour compared to the default one, although with slightly less classification mistakes."
   ]
  },
  {
   "cell_type": "code",
   "execution_count": 28,
   "id": "88dc21bbb2160d48",
   "metadata": {
    "ExecuteTime": {
     "end_time": "2024-01-13T01:07:33.339720428Z",
     "start_time": "2024-01-13T01:07:29.928277930Z"
    },
    "collapsed": false
   },
   "outputs": [
    {
     "name": "stdout",
     "output_type": "stream",
     "text": [
      "Accuracy:  0.93\n",
      "Classification report:\n",
      "              precision    recall  f1-score   support\n",
      "\n",
      "      Bronze       0.94      0.92      0.93      5126\n",
      "        Gold       0.91      0.92      0.92      2265\n",
      "      Silver       0.93      0.94      0.94      9068\n",
      "\n",
      "    accuracy                           0.93     16459\n",
      "   macro avg       0.93      0.93      0.93     16459\n",
      "weighted avg       0.93      0.93      0.93     16459\n",
      "Accuracy:  0.93\n",
      "Classification report:\n",
      "              precision    recall  f1-score   support\n",
      "\n",
      "      Bronze       0.94      0.92      0.93      5126\n",
      "        Gold       0.91      0.92      0.92      2265\n",
      "      Silver       0.93      0.94      0.94      9068\n",
      "\n",
      "    accuracy                           0.93     16459\n",
      "   macro avg       0.93      0.93      0.93     16459\n",
      "weighted avg       0.93      0.93      0.93     16459\n"
     ]
    }
   ],
   "source": [
    "y_pred = best_rfc.predict(X_pred)\n",
    "\n",
    "best_rfc_accuracy = accuracy_score(labels, y_pred)\n",
    "print(f\"Accuracy: {best_rfc_accuracy: .2f}\")\n",
    "\n",
    "print(\"Classification report:\")\n",
    "print(classification_report(labels, y_pred))"
   ]
  },
  {
   "cell_type": "markdown",
   "id": "cde894fab9d80dd6",
   "metadata": {
    "collapsed": false
   },
   "source": [
    "For the prediction dataset, we find no significant differences between the expensive and the default model."
   ]
  },
  {
   "cell_type": "code",
   "execution_count": 29,
   "id": "b4354611e5c65b03",
   "metadata": {
    "ExecuteTime": {
     "end_time": "2024-01-13T01:07:33.475756277Z",
     "start_time": "2024-01-13T01:07:33.372480893Z"
    },
    "collapsed": false
   },
   "outputs": [
    {
     "data": {
      "image/png": "[encoded data removed]",
      "text/plain": [
       "<Figure size 640x480 with 1 Axes>"
      ]
     },
     "metadata": {},
     "output_type": "display_data"
    },
    {
     "data": {
      "text/plain": "<Figure size 640x480 with 1 Axes>",
      "image/png": "[encoded data removed]"
     },
     "metadata": {},
     "output_type": "display_data"
    }
   ],
   "source": [
    "conf_matrix = confusion_matrix(labels, y_pred)\n",
    "sns.heatmap(conf_matrix, annot=True, fmt=\"d\", cmap=\"Blues\", cbar=False)\n",
    "plt.xlabel(\"Predicted label\")\n",
    "plt.ylabel(\"True label\")\n",
    "plt.title(\"Confusion matrix\")\n",
    "plt.show();"
   ]
  },
  {
   "cell_type": "markdown",
   "id": "7fe4635dbb7be5be",
   "metadata": {
    "collapsed": false
   },
   "source": [
    "From detailed results, we find a small decrease in classification mistakes for all cases except the singular Silver-Bronze mistake which remains."
   ]
  },
  {
   "cell_type": "markdown",
   "id": "782820d1a99299be",
   "metadata": {
    "collapsed": false
   },
   "source": [
    "Whether this result is satisfactory enough to run the expensive model is purely dependent on the context in which the model is used. Obviously,\n",
    "better model is better, but it is not always true that better model (at any price) is more desirable than a cheaper, very comparable model."
   ]
  },
  {
   "cell_type": "code",
   "execution_count": 29,
   "id": "80ba0fd478482589",
   "metadata": {
    "collapsed": false,
    "ExecuteTime": {
     "end_time": "2024-01-13T01:07:33.481154807Z",
     "start_time": "2024-01-13T01:07:33.476870932Z"
    }
   },
   "outputs": [],
   "source": []
  }
 ],
 "metadata": {
  "kernelspec": {
   "display_name": "Python 3 (ipykernel)",
   "language": "python",
   "name": "python3"
  },
  "language_info": {
   "codemirror_mode": {
    "name": "ipython",
    "version": 3
   },
   "file_extension": ".py",
   "mimetype": "text/x-python",
   "name": "python",
   "nbconvert_exporter": "python",
   "pygments_lexer": "ipython3",
   "version": "3.10.12"
  }
 },
 "nbformat": 4,
 "nbformat_minor": 5
}

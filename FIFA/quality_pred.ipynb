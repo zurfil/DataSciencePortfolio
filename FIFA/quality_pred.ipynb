{
 "cells": [
  {
   "cell_type": "markdown",
   "id": "d454620627db7632",
   "metadata": {
    "collapsed": false
   },
   "source": [
    "# Classification task for FIFA dataset\n",
    "\n",
    "This notebook will cover the necessary steps to perform the task of classification on most available datasets.\n",
    "This dataset does not contain a categorical (class) metric measuring the player's overall ability, it does however contain\n",
    "a continuous variable called \"Overall\" with the range of 0-100. We will use it to create the three classes:\n",
    "- Bronze (0-64)\n",
    "- Silver (65-74)\n",
    "- Gold (75-100)\n",
    "\n",
    "In order to perform a classification task, both training data to which the answers are already known, and predictions data to which\n",
    "the answers are not known are required. As the FIFA does only release full datasets (meaning datasets where Overall is known) we\n",
    "will take the latest dataset and strip the answers for it in order to compare the accuracy of the predictions later. "
   ]
  },
  {
   "cell_type": "code",
   "execution_count": 1,
   "id": "initial_id",
   "metadata": {
    "collapsed": true,
    "jupyter": {
     "outputs_hidden": true
    },
    "ExecuteTime": {
     "end_time": "2024-01-19T23:06:14.766093800Z",
     "start_time": "2024-01-19T23:06:14.613506600Z"
    }
   },
   "outputs": [],
   "source": [
    "import numpy as np\n",
    "import pandas as pd\n",
    "import matplotlib.pyplot as plt\n",
    "import seaborn as sns\n",
    "\n",
    "import datafoobars as dfb"
   ]
  },
  {
   "cell_type": "markdown",
   "id": "aed4e23683c2ff9e",
   "metadata": {
    "collapsed": false
   },
   "source": [
    "We start by importing the data. All datasets are available in the /data directory. In total, there are 5 training datasets from years 2017 to 2021,\n",
    "and one predictions dataset with data from 2022."
   ]
  },
  {
   "cell_type": "code",
   "execution_count": 2,
   "id": "a1a30937118368d7",
   "metadata": {
    "collapsed": false,
    "ExecuteTime": {
     "end_time": "2024-01-19T23:06:15.220862500Z",
     "start_time": "2024-01-19T23:06:14.766093800Z"
    }
   },
   "outputs": [],
   "source": [
    "train_data = dfb.import_train_data()"
   ]
  },
  {
   "cell_type": "markdown",
   "id": "3a76373dbb5d048c",
   "metadata": {
    "collapsed": false
   },
   "source": [
    "As the goalkeepers are graded separately from the rest of the players, in this task they are to be removed.\n",
    "Additionally, all irrelevant columns (including goalkeeping abilities) are to be removed.\n",
    "Moreover, as it can be seen by .dropna(inplace=True), there were some anomalies present in the dataset resulting in a removal\n",
    "of 707 players with incomplete statistics.\n",
    "This leaves us with a 28-dimensional dataset (as one dimension is the Overall of the player which will be removed soon),\n",
    "and 86935 players to learn from."
   ]
  },
  {
   "cell_type": "code",
   "execution_count": 3,
   "id": "51ff34da390b1d81",
   "metadata": {
    "collapsed": false,
    "ExecuteTime": {
     "end_time": "2024-01-19T23:06:15.279143200Z",
     "start_time": "2024-01-19T23:06:15.221955900Z"
    }
   },
   "outputs": [],
   "source": [
    "train_data = dfb.drop_personal_data(train_data)\n",
    "train_data = dfb.drop_goalkeeper_data(train_data)\n",
    "train_data = dfb.drop_categorical_data(train_data)\n",
    "\n",
    "train_data.dropna(inplace=True)"
   ]
  },
  {
   "cell_type": "markdown",
   "id": "eec1b1a8dabeb42d",
   "metadata": {
    "collapsed": false
   },
   "source": [
    "We create the classes to which the players get assigned."
   ]
  },
  {
   "cell_type": "code",
   "execution_count": 4,
   "id": "2252e30df12d1efe",
   "metadata": {
    "collapsed": false,
    "ExecuteTime": {
     "end_time": "2024-01-19T23:06:15.297162900Z",
     "start_time": "2024-01-19T23:06:15.281148700Z"
    }
   },
   "outputs": [],
   "source": [
    "train_data = dfb.bin_overall_to_quality(train_data)"
   ]
  },
  {
   "cell_type": "markdown",
   "id": "8f046282be0ab34b",
   "metadata": {
    "collapsed": false
   },
   "source": [
    "The task consists of two classifiers. One can be though of as the efficient one, where the learning process as well as the\n",
    "predictions will be performed once on default settings. We will use it as a baseline later when comparing it with a hyperparameters\n",
    "tuning approach.\n",
    "\n",
    "We split the data into the train and test datasets, used for training on the dataset and validating the accuracy of the classifier respectively."
   ]
  },
  {
   "cell_type": "code",
   "execution_count": 5,
   "id": "c9c3d45642fe1c3f",
   "metadata": {
    "collapsed": false,
    "ExecuteTime": {
     "end_time": "2024-01-19T23:06:15.430974500Z",
     "start_time": "2024-01-19T23:06:15.291162600Z"
    }
   },
   "outputs": [],
   "source": [
    "from sklearn.ensemble import RandomForestClassifier\n",
    "from sklearn.metrics import accuracy_score, classification_report\n",
    "from sklearn.model_selection import train_test_split\n",
    "\n",
    "X = train_data.drop(\"Rank\", axis=1)\n",
    "y = train_data[\"Rank\"]\n",
    "\n",
    "X_train, X_test, y_train, y_test = train_test_split(X, y, test_size=0.2, random_state=42)"
   ]
  },
  {
   "cell_type": "markdown",
   "id": "7f5b827732f46dd0",
   "metadata": {
    "collapsed": false
   },
   "source": [
    "We fit the train data to the classifier."
   ]
  },
  {
   "cell_type": "code",
   "execution_count": 6,
   "id": "3a7ad042cbfceda0",
   "metadata": {
    "collapsed": false,
    "ExecuteTime": {
     "end_time": "2024-01-19T23:06:31.119291Z",
     "start_time": "2024-01-19T23:06:15.431975200Z"
    }
   },
   "outputs": [
    {
     "data": {
      "text/plain": "RandomForestClassifier(random_state=42)",
      "text/html": "<style>#sk-container-id-1 {color: black;}#sk-container-id-1 pre{padding: 0;}#sk-container-id-1 div.sk-toggleable {background-color: white;}#sk-container-id-1 label.sk-toggleable__label {cursor: pointer;display: block;width: 100%;margin-bottom: 0;padding: 0.3em;box-sizing: border-box;text-align: center;}#sk-container-id-1 label.sk-toggleable__label-arrow:before {content: \"▸\";float: left;margin-right: 0.25em;color: #696969;}#sk-container-id-1 label.sk-toggleable__label-arrow:hover:before {color: black;}#sk-container-id-1 div.sk-estimator:hover label.sk-toggleable__label-arrow:before {color: black;}#sk-container-id-1 div.sk-toggleable__content {max-height: 0;max-width: 0;overflow: hidden;text-align: left;background-color: #f0f8ff;}#sk-container-id-1 div.sk-toggleable__content pre {margin: 0.2em;color: black;border-radius: 0.25em;background-color: #f0f8ff;}#sk-container-id-1 input.sk-toggleable__control:checked~div.sk-toggleable__content {max-height: 200px;max-width: 100%;overflow: auto;}#sk-container-id-1 input.sk-toggleable__control:checked~label.sk-toggleable__label-arrow:before {content: \"▾\";}#sk-container-id-1 div.sk-estimator input.sk-toggleable__control:checked~label.sk-toggleable__label {background-color: #d4ebff;}#sk-container-id-1 div.sk-label input.sk-toggleable__control:checked~label.sk-toggleable__label {background-color: #d4ebff;}#sk-container-id-1 input.sk-hidden--visually {border: 0;clip: rect(1px 1px 1px 1px);clip: rect(1px, 1px, 1px, 1px);height: 1px;margin: -1px;overflow: hidden;padding: 0;position: absolute;width: 1px;}#sk-container-id-1 div.sk-estimator {font-family: monospace;background-color: #f0f8ff;border: 1px dotted black;border-radius: 0.25em;box-sizing: border-box;margin-bottom: 0.5em;}#sk-container-id-1 div.sk-estimator:hover {background-color: #d4ebff;}#sk-container-id-1 div.sk-parallel-item::after {content: \"\";width: 100%;border-bottom: 1px solid gray;flex-grow: 1;}#sk-container-id-1 div.sk-label:hover label.sk-toggleable__label {background-color: #d4ebff;}#sk-container-id-1 div.sk-serial::before {content: \"\";position: absolute;border-left: 1px solid gray;box-sizing: border-box;top: 0;bottom: 0;left: 50%;z-index: 0;}#sk-container-id-1 div.sk-serial {display: flex;flex-direction: column;align-items: center;background-color: white;padding-right: 0.2em;padding-left: 0.2em;position: relative;}#sk-container-id-1 div.sk-item {position: relative;z-index: 1;}#sk-container-id-1 div.sk-parallel {display: flex;align-items: stretch;justify-content: center;background-color: white;position: relative;}#sk-container-id-1 div.sk-item::before, #sk-container-id-1 div.sk-parallel-item::before {content: \"\";position: absolute;border-left: 1px solid gray;box-sizing: border-box;top: 0;bottom: 0;left: 50%;z-index: -1;}#sk-container-id-1 div.sk-parallel-item {display: flex;flex-direction: column;z-index: 1;position: relative;background-color: white;}#sk-container-id-1 div.sk-parallel-item:first-child::after {align-self: flex-end;width: 50%;}#sk-container-id-1 div.sk-parallel-item:last-child::after {align-self: flex-start;width: 50%;}#sk-container-id-1 div.sk-parallel-item:only-child::after {width: 0;}#sk-container-id-1 div.sk-dashed-wrapped {border: 1px dashed gray;margin: 0 0.4em 0.5em 0.4em;box-sizing: border-box;padding-bottom: 0.4em;background-color: white;}#sk-container-id-1 div.sk-label label {font-family: monospace;font-weight: bold;display: inline-block;line-height: 1.2em;}#sk-container-id-1 div.sk-label-container {text-align: center;}#sk-container-id-1 div.sk-container {/* jupyter's `normalize.less` sets `[hidden] { display: none; }` but bootstrap.min.css set `[hidden] { display: none !important; }` so we also need the `!important` here to be able to override the default hidden behavior on the sphinx rendered scikit-learn.org. See: https://github.com/scikit-learn/scikit-learn/issues/21755 */display: inline-block !important;position: relative;}#sk-container-id-1 div.sk-text-repr-fallback {display: none;}</style><div id=\"sk-container-id-1\" class=\"sk-top-container\"><div class=\"sk-text-repr-fallback\"><pre>RandomForestClassifier(random_state=42)</pre><b>In a Jupyter environment, please rerun this cell to show the HTML representation or trust the notebook. <br />On GitHub, the HTML representation is unable to render, please try loading this page with nbviewer.org.</b></div><div class=\"sk-container\" hidden><div class=\"sk-item\"><div class=\"sk-estimator sk-toggleable\"><input class=\"sk-toggleable__control sk-hidden--visually\" id=\"sk-estimator-id-1\" type=\"checkbox\" checked><label for=\"sk-estimator-id-1\" class=\"sk-toggleable__label sk-toggleable__label-arrow\">RandomForestClassifier</label><div class=\"sk-toggleable__content\"><pre>RandomForestClassifier(random_state=42)</pre></div></div></div></div></div>"
     },
     "execution_count": 6,
     "metadata": {},
     "output_type": "execute_result"
    }
   ],
   "source": [
    "rfc = RandomForestClassifier(random_state=42)\n",
    "rfc.fit(X_train, y_train)"
   ]
  },
  {
   "cell_type": "markdown",
   "id": "eab43c3075560881",
   "metadata": {
    "collapsed": false
   },
   "source": [
    "We predict the test data and compare the predictions to the actual classes in the test data. "
   ]
  },
  {
   "cell_type": "code",
   "execution_count": 7,
   "id": "79130a6b42ebff83",
   "metadata": {
    "collapsed": false,
    "ExecuteTime": {
     "end_time": "2024-01-19T23:06:31.507953Z",
     "start_time": "2024-01-19T23:06:31.118292400Z"
    }
   },
   "outputs": [
    {
     "name": "stdout",
     "output_type": "stream",
     "text": [
      "              precision    recall  f1-score   support\n",
      "\n",
      "      Bronze       0.94      0.94      0.94      6775\n",
      "        Gold       0.94      0.90      0.92      2105\n",
      "      Silver       0.93      0.94      0.93      8507\n",
      "\n",
      "    accuracy                           0.93     17387\n",
      "   macro avg       0.94      0.93      0.93     17387\n",
      "weighted avg       0.93      0.93      0.93     17387\n"
     ]
    }
   ],
   "source": [
    "y_pred = rfc.predict(X_test)\n",
    "print(classification_report(y_test, y_pred))"
   ]
  },
  {
   "cell_type": "markdown",
   "id": "d0055251b5f9e64f",
   "metadata": {
    "collapsed": false
   },
   "source": [
    "This approach yields a 93% accuracy score which is already high. \n",
    "\n",
    "We can look more in depth into the scoring process by making a confusion matrix which will count how many times\n",
    "each class was predicted for each actual class. We can then plot it as a heatmap using seaborn library to obtain\n",
    "more detailed prediction results."
   ]
  },
  {
   "cell_type": "code",
   "execution_count": 8,
   "id": "740cc3b670b21391",
   "metadata": {
    "collapsed": false,
    "ExecuteTime": {
     "end_time": "2024-01-19T23:06:31.607382800Z",
     "start_time": "2024-01-19T23:06:31.504952700Z"
    }
   },
   "outputs": [
    {
     "data": {
      "text/plain": "<Figure size 1000x800 with 1 Axes>",
      "image/png": "[encoded data removed]"
     },
     "metadata": {},
     "output_type": "display_data"
    }
   ],
   "source": [
    "dfb.make_conf_matrix(y_test, y_pred)"
   ]
  },
  {
   "cell_type": "markdown",
   "id": "c51b9ec14d3dfaeb",
   "metadata": {
    "collapsed": false
   },
   "source": [
    "Here we can observe some unique behaviours, namely there were no Bronze-Silver classification mistakes, while both Bronze and Silver\n",
    "classes have experienced Bronze-Gold and Silver-Gold classification mistakes respectively. \n",
    "\n",
    "This part is only my speculation, but the league in which a player plays seems to affect their card colour as well as the overall score,\n",
    "for gold players this might introduce some bias for a better card colour for weak players who are a part of a strong club,\n",
    "but never play in their games.\n",
    "\n",
    "We will now perform the exact same steps on the predictions dataset as the testing dataset. In the real world this dataset would\n",
    "be without already assigned classes and the accuracy of these prediction would not be known. The accuracy would be assumed \n",
    "to be similar to the accuracy of the test dataset (assuming correct data preparation, model selection and training process).\n",
    "But we get the luxury of verifying the scores with the already known answers again."
   ]
  },
  {
   "cell_type": "code",
   "execution_count": 9,
   "id": "790fad659e84560e",
   "metadata": {
    "collapsed": false,
    "ExecuteTime": {
     "end_time": "2024-01-19T23:06:31.771515900Z",
     "start_time": "2024-01-19T23:06:31.606380200Z"
    }
   },
   "outputs": [],
   "source": [
    "pred_data = pd.read_csv(\"data/FIFA22_official_data.csv\")\n",
    "\n",
    "pred_data = dfb.drop_personal_data(pred_data)\n",
    "pred_data = dfb.drop_goalkeeper_data(pred_data)\n",
    "pred_data = dfb.drop_categorical_data(pred_data)\n",
    "\n",
    "pred_data.dropna(inplace=True)\n",
    "\n",
    "pred_data = dfb.bin_overall_to_quality(pred_data)\n",
    "\n",
    "X_pred = pred_data.drop(\"Rank\", axis=1)\n",
    "labels = pred_data[\"Rank\"]"
   ]
  },
  {
   "cell_type": "code",
   "execution_count": 10,
   "id": "a8dde0baf016e996",
   "metadata": {
    "collapsed": false,
    "ExecuteTime": {
     "end_time": "2024-01-19T23:06:32.087792700Z",
     "start_time": "2024-01-19T23:06:31.728938400Z"
    }
   },
   "outputs": [
    {
     "name": "stdout",
     "output_type": "stream",
     "text": [
      "              precision    recall  f1-score   support\n",
      "\n",
      "      Bronze       0.93      0.91      0.92      5126\n",
      "        Gold       0.91      0.92      0.92      2265\n",
      "      Silver       0.93      0.94      0.94      9068\n",
      "\n",
      "    accuracy                           0.93     16459\n",
      "   macro avg       0.93      0.92      0.93     16459\n",
      "weighted avg       0.93      0.93      0.93     16459\n"
     ]
    }
   ],
   "source": [
    "y_pred = rfc.predict(X_pred)\n",
    "print(classification_report(labels, y_pred))"
   ]
  },
  {
   "cell_type": "markdown",
   "id": "a5ed562676baf7de",
   "metadata": {
    "collapsed": false
   },
   "source": [
    "We find the same overall accuracy of 93%, which is good."
   ]
  },
  {
   "cell_type": "code",
   "execution_count": 11,
   "id": "7e255f2fca3af66e",
   "metadata": {
    "collapsed": false,
    "ExecuteTime": {
     "end_time": "2024-01-19T23:06:32.170926900Z",
     "start_time": "2024-01-19T23:06:32.082789500Z"
    }
   },
   "outputs": [
    {
     "data": {
      "text/plain": "<Figure size 1000x800 with 1 Axes>",
      "image/png": "[encoded data removed]"
     },
     "metadata": {},
     "output_type": "display_data"
    }
   ],
   "source": [
    "dfb.make_conf_matrix(labels, y_pred)"
   ]
  },
  {
   "cell_type": "markdown",
   "id": "ddc38cd02e5c3a92",
   "metadata": {
    "collapsed": false
   },
   "source": [
    "Moreover, we find that most of the same trends as with the training and testing data still apply, although there was one \n",
    "Silver-Bronze classification mistake.\n",
    "\n",
    "For a method which uses very little resources it is still a relatively good result.\n",
    "Now we will repeat the process but instead of fitting the model once on default settings we will fit a range of models\n",
    "with different settings (hyperparameters) in order to find the best one which will be used later to classify the 'predictions' dataset."
   ]
  },
  {
   "cell_type": "code",
   "execution_count": 12,
   "id": "336ffffba9134d92",
   "metadata": {
    "collapsed": false,
    "ExecuteTime": {
     "end_time": "2024-01-19T23:22:19.660574300Z",
     "start_time": "2024-01-19T23:06:32.166410200Z"
    }
   },
   "outputs": [
    {
     "name": "stdout",
     "output_type": "stream",
     "text": [
      "Fitting 4 folds for each of 3 candidates, totalling 12 fits\n",
      "Best Hyperparameters:  {'n_estimators': 1048, 'max_depth': 63}\n",
      "Cross-Validation Scores: [0.9325358  0.93483637 0.93075286 0.93006269]\n",
      "Mean CV Score: 0.93%\n"
     ]
    }
   ],
   "source": [
    "from sklearn.model_selection import RandomizedSearchCV, cross_val_score\n",
    "\n",
    "param_dist = {\n",
    "    \"n_estimators\": [int(x) for x in np.linspace(start=200, stop=1600, num=100)],\n",
    "    \"max_depth\": [int(x) for x in np.linspace(10, 70, num=10)]\n",
    "}\n",
    "\n",
    "random_search = RandomizedSearchCV(rfc, param_distributions=param_dist, n_iter=3, cv=4, verbose=2, random_state=42, n_jobs=-1)\n",
    "\n",
    "random_search.fit(X_train, y_train)\n",
    "\n",
    "print(\"Best Hyperparameters: \", random_search.best_params_)\n",
    "\n",
    "best_rfc = random_search.best_estimator_\n",
    "cv_scores = cross_val_score(best_rfc, X_train, y_train, cv=4)\n",
    "print(f\"Cross-Validation Scores: {cv_scores}\")\n",
    "print(f\"Mean CV Score: {np.mean(cv_scores):.2f}%\")"
   ]
  },
  {
   "cell_type": "markdown",
   "id": "87f69086e136cea1",
   "metadata": {
    "collapsed": false
   },
   "source": [
    "This method is much more resource intensive and its resource usage is relative to the number of classifiers tested.\n",
    "\n",
    "While the fitting of the default model takes less than 20 seconds, here the cross-validation of the models takes more than 10 minutes.\n",
    "We can already observe that even the best model ({'n_estimators': 1048, 'max_depth': 63}) does not perform better than the default one.\n",
    "With such a massive increase in cost and no increase in performance, there is no clear justification as to why continue, but for completeness,\n",
    "we will proceed and compare the results."
   ]
  },
  {
   "cell_type": "code",
   "execution_count": 13,
   "id": "da563ec003204008",
   "metadata": {
    "collapsed": false,
    "ExecuteTime": {
     "end_time": "2024-01-19T23:27:09.543155300Z",
     "start_time": "2024-01-19T23:22:19.661576500Z"
    }
   },
   "outputs": [
    {
     "data": {
      "text/plain": "RandomForestClassifier(max_depth=63, n_estimators=1048, random_state=42)",
      "text/html": "<style>#sk-container-id-2 {color: black;}#sk-container-id-2 pre{padding: 0;}#sk-container-id-2 div.sk-toggleable {background-color: white;}#sk-container-id-2 label.sk-toggleable__label {cursor: pointer;display: block;width: 100%;margin-bottom: 0;padding: 0.3em;box-sizing: border-box;text-align: center;}#sk-container-id-2 label.sk-toggleable__label-arrow:before {content: \"▸\";float: left;margin-right: 0.25em;color: #696969;}#sk-container-id-2 label.sk-toggleable__label-arrow:hover:before {color: black;}#sk-container-id-2 div.sk-estimator:hover label.sk-toggleable__label-arrow:before {color: black;}#sk-container-id-2 div.sk-toggleable__content {max-height: 0;max-width: 0;overflow: hidden;text-align: left;background-color: #f0f8ff;}#sk-container-id-2 div.sk-toggleable__content pre {margin: 0.2em;color: black;border-radius: 0.25em;background-color: #f0f8ff;}#sk-container-id-2 input.sk-toggleable__control:checked~div.sk-toggleable__content {max-height: 200px;max-width: 100%;overflow: auto;}#sk-container-id-2 input.sk-toggleable__control:checked~label.sk-toggleable__label-arrow:before {content: \"▾\";}#sk-container-id-2 div.sk-estimator input.sk-toggleable__control:checked~label.sk-toggleable__label {background-color: #d4ebff;}#sk-container-id-2 div.sk-label input.sk-toggleable__control:checked~label.sk-toggleable__label {background-color: #d4ebff;}#sk-container-id-2 input.sk-hidden--visually {border: 0;clip: rect(1px 1px 1px 1px);clip: rect(1px, 1px, 1px, 1px);height: 1px;margin: -1px;overflow: hidden;padding: 0;position: absolute;width: 1px;}#sk-container-id-2 div.sk-estimator {font-family: monospace;background-color: #f0f8ff;border: 1px dotted black;border-radius: 0.25em;box-sizing: border-box;margin-bottom: 0.5em;}#sk-container-id-2 div.sk-estimator:hover {background-color: #d4ebff;}#sk-container-id-2 div.sk-parallel-item::after {content: \"\";width: 100%;border-bottom: 1px solid gray;flex-grow: 1;}#sk-container-id-2 div.sk-label:hover label.sk-toggleable__label {background-color: #d4ebff;}#sk-container-id-2 div.sk-serial::before {content: \"\";position: absolute;border-left: 1px solid gray;box-sizing: border-box;top: 0;bottom: 0;left: 50%;z-index: 0;}#sk-container-id-2 div.sk-serial {display: flex;flex-direction: column;align-items: center;background-color: white;padding-right: 0.2em;padding-left: 0.2em;position: relative;}#sk-container-id-2 div.sk-item {position: relative;z-index: 1;}#sk-container-id-2 div.sk-parallel {display: flex;align-items: stretch;justify-content: center;background-color: white;position: relative;}#sk-container-id-2 div.sk-item::before, #sk-container-id-2 div.sk-parallel-item::before {content: \"\";position: absolute;border-left: 1px solid gray;box-sizing: border-box;top: 0;bottom: 0;left: 50%;z-index: -1;}#sk-container-id-2 div.sk-parallel-item {display: flex;flex-direction: column;z-index: 1;position: relative;background-color: white;}#sk-container-id-2 div.sk-parallel-item:first-child::after {align-self: flex-end;width: 50%;}#sk-container-id-2 div.sk-parallel-item:last-child::after {align-self: flex-start;width: 50%;}#sk-container-id-2 div.sk-parallel-item:only-child::after {width: 0;}#sk-container-id-2 div.sk-dashed-wrapped {border: 1px dashed gray;margin: 0 0.4em 0.5em 0.4em;box-sizing: border-box;padding-bottom: 0.4em;background-color: white;}#sk-container-id-2 div.sk-label label {font-family: monospace;font-weight: bold;display: inline-block;line-height: 1.2em;}#sk-container-id-2 div.sk-label-container {text-align: center;}#sk-container-id-2 div.sk-container {/* jupyter's `normalize.less` sets `[hidden] { display: none; }` but bootstrap.min.css set `[hidden] { display: none !important; }` so we also need the `!important` here to be able to override the default hidden behavior on the sphinx rendered scikit-learn.org. See: https://github.com/scikit-learn/scikit-learn/issues/21755 */display: inline-block !important;position: relative;}#sk-container-id-2 div.sk-text-repr-fallback {display: none;}</style><div id=\"sk-container-id-2\" class=\"sk-top-container\"><div class=\"sk-text-repr-fallback\"><pre>RandomForestClassifier(max_depth=63, n_estimators=1048, random_state=42)</pre><b>In a Jupyter environment, please rerun this cell to show the HTML representation or trust the notebook. <br />On GitHub, the HTML representation is unable to render, please try loading this page with nbviewer.org.</b></div><div class=\"sk-container\" hidden><div class=\"sk-item\"><div class=\"sk-estimator sk-toggleable\"><input class=\"sk-toggleable__control sk-hidden--visually\" id=\"sk-estimator-id-2\" type=\"checkbox\" checked><label for=\"sk-estimator-id-2\" class=\"sk-toggleable__label sk-toggleable__label-arrow\">RandomForestClassifier</label><div class=\"sk-toggleable__content\"><pre>RandomForestClassifier(max_depth=63, n_estimators=1048, random_state=42)</pre></div></div></div></div></div>"
     },
     "execution_count": 13,
     "metadata": {},
     "output_type": "execute_result"
    }
   ],
   "source": [
    "best_rfc.fit(X_train, y_train)"
   ]
  },
  {
   "cell_type": "code",
   "execution_count": 15,
   "id": "47bf2c9a0729731a",
   "metadata": {
    "collapsed": false,
    "ExecuteTime": {
     "end_time": "2024-01-19T23:30:31.929666100Z",
     "start_time": "2024-01-19T23:30:29.552163200Z"
    }
   },
   "outputs": [
    {
     "name": "stdout",
     "output_type": "stream",
     "text": [
      "              precision    recall  f1-score   support\n",
      "\n",
      "      Bronze       0.94      0.94      0.94      6775\n",
      "        Gold       0.95      0.90      0.92      2105\n",
      "      Silver       0.93      0.94      0.94      8507\n",
      "\n",
      "    accuracy                           0.94     17387\n",
      "   macro avg       0.94      0.93      0.93     17387\n",
      "weighted avg       0.94      0.94      0.94     17387\n"
     ]
    }
   ],
   "source": [
    "y_pred = best_rfc.predict(X_test)\n",
    "print(classification_report(y_test, y_pred))"
   ]
  },
  {
   "cell_type": "markdown",
   "id": "e56c4fcaeac49370",
   "metadata": {
    "collapsed": false
   },
   "source": [
    "We find 1 percentage point of accuracy increase over the default model. If it is worth the additional cost is solely reliant on the context\n",
    "in which this classifier is used."
   ]
  },
  {
   "cell_type": "code",
   "execution_count": 17,
   "id": "4385dd8149d32e10",
   "metadata": {
    "collapsed": false,
    "ExecuteTime": {
     "end_time": "2024-01-19T23:30:45.998243100Z",
     "start_time": "2024-01-19T23:30:45.896008Z"
    }
   },
   "outputs": [
    {
     "data": {
      "text/plain": "<Figure size 1000x800 with 1 Axes>",
      "image/png": "[encoded data removed]"
     },
     "metadata": {},
     "output_type": "display_data"
    }
   ],
   "source": [
    "dfb.make_conf_matrix(y_test, y_pred)"
   ]
  },
  {
   "cell_type": "markdown",
   "id": "b4329a229426479",
   "metadata": {
    "collapsed": false
   },
   "source": [
    "Looking at the detailed results, we find similar behaviour compared to the default one, although with slightly less classification mistakes."
   ]
  },
  {
   "cell_type": "code",
   "execution_count": 18,
   "id": "88dc21bbb2160d48",
   "metadata": {
    "collapsed": false,
    "ExecuteTime": {
     "end_time": "2024-01-19T23:30:52.455165600Z",
     "start_time": "2024-01-19T23:30:50.446155700Z"
    }
   },
   "outputs": [
    {
     "name": "stdout",
     "output_type": "stream",
     "text": [
      "              precision    recall  f1-score   support\n",
      "\n",
      "      Bronze       0.94      0.92      0.93      5126\n",
      "        Gold       0.91      0.92      0.92      2265\n",
      "      Silver       0.93      0.94      0.94      9068\n",
      "\n",
      "    accuracy                           0.93     16459\n",
      "   macro avg       0.93      0.93      0.93     16459\n",
      "weighted avg       0.93      0.93      0.93     16459\n"
     ]
    }
   ],
   "source": [
    "y_pred = best_rfc.predict(X_pred)\n",
    "print(classification_report(labels, y_pred))"
   ]
  },
  {
   "cell_type": "markdown",
   "id": "cde894fab9d80dd6",
   "metadata": {
    "collapsed": false
   },
   "source": [
    "For the prediction dataset, we find no significant differences between the expensive and the default model."
   ]
  },
  {
   "cell_type": "code",
   "execution_count": 19,
   "id": "b4354611e5c65b03",
   "metadata": {
    "collapsed": false,
    "ExecuteTime": {
     "end_time": "2024-01-19T23:30:54.414810800Z",
     "start_time": "2024-01-19T23:30:54.339820700Z"
    }
   },
   "outputs": [
    {
     "data": {
      "text/plain": "<Figure size 1000x800 with 1 Axes>",
      "image/png": "[encoded data removed]"
     },
     "metadata": {},
     "output_type": "display_data"
    }
   ],
   "source": [
    "dfb.make_conf_matrix(labels, y_pred)"
   ]
  },
  {
   "cell_type": "markdown",
   "id": "7fe4635dbb7be5be",
   "metadata": {
    "collapsed": false
   },
   "source": [
    "From detailed results, we find a small decrease in classification mistakes for all cases except the singular Silver-Bronze mistake which remains."
   ]
  },
  {
   "cell_type": "markdown",
   "id": "782820d1a99299be",
   "metadata": {
    "collapsed": false
   },
   "source": [
    "Whether this result is satisfactory enough to run the expensive model is purely dependent on the context in which the model is used. Obviously,\n",
    "better model is better, but it is not always true that better model (at any price) is more desirable than a cheaper, very comparable model."
   ]
  },
  {
   "cell_type": "code",
   "outputs": [],
   "source": [],
   "metadata": {
    "collapsed": false
   },
   "id": "3c334a3ef39e6227"
  }
 ],
 "metadata": {
  "kernelspec": {
   "display_name": "Python 3 (ipykernel)",
   "language": "python",
   "name": "python3"
  },
  "language_info": {
   "codemirror_mode": {
    "name": "ipython",
    "version": 3
   },
   "file_extension": ".py",
   "mimetype": "text/x-python",
   "name": "python",
   "nbconvert_exporter": "python",
   "pygments_lexer": "ipython3",
   "version": "3.10.12"
  }
 },
 "nbformat": 4,
 "nbformat_minor": 5
}

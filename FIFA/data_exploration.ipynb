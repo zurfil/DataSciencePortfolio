{
 "cells": [
  {
   "cell_type": "code",
   "execution_count": null,
   "id": "initial_id",
   "metadata": {
    "collapsed": true
   },
   "outputs": [],
   "source": [
    "import numpy as np\n",
    "import pandas as pd\n",
    "import matplotlib.pyplot as plt\n",
    "import seaborn as sns"
   ]
  },
  {
   "cell_type": "code",
   "execution_count": null,
   "outputs": [],
   "source": [
    "raw_data = pd.read_csv(\"data/FIFA22_official_data.csv\")\n",
    "raw_data"
   ],
   "metadata": {
    "collapsed": false
   },
   "id": "c66ab93566c40e70"
  },
  {
   "cell_type": "code",
   "execution_count": null,
   "outputs": [],
   "source": [
    "data = raw_data.drop([\"Photo\", \"Flag\", \"Club Logo\", \"Special\", \"International Reputation\", \"Body Type\", \"Real Face\", \"Joined\", \"Loaned From\",\n",
    "                      \"Contract Valid Until\", \"Release Clause\", \"Best Position\", \"Best Overall Rating\", \"Potential\"], axis=1, inplace=False)\n",
    "data"
   ],
   "metadata": {
    "collapsed": false
   },
   "id": "d4d2e6dbe548114e"
  },
  {
   "cell_type": "code",
   "execution_count": null,
   "outputs": [],
   "source": [
    "plt.hist(data[\"Age\"], bins=39)\n",
    "average_age = data[\"Age\"].mean()\n",
    "plt.axvline(x=average_age, color=\"red\", linestyle=\"--\", linewidth=4, label=f\"Average Age ({average_age: .2f})\")\n",
    "plt.xlabel(\"Age\")\n",
    "plt.legend()\n",
    "plt.title(\"Distribution of player age\", fontsize=18)\n",
    "plt.show();"
   ],
   "metadata": {
    "collapsed": false
   },
   "id": "46a4781725da8a5"
  },
  {
   "cell_type": "code",
   "execution_count": null,
   "outputs": [],
   "source": [
    "oldest_ten_players = data.sort_values(by=\"Age\", ascending=False).head(10)\n",
    "print(\"The 10 oldest players are:\")\n",
    "for index, row in oldest_ten_players.iterrows():\n",
    "    print(f\"{row['Name']} - {row['Age']}\")\n",
    "\n",
    "oldest_ten_players"
   ],
   "metadata": {
    "collapsed": false
   },
   "id": "c70862e2d8aa8e78"
  },
  {
   "cell_type": "code",
   "execution_count": null,
   "outputs": [],
   "source": [
    "data[\"Name\"] = data[\"Name\"].str.replace(r'\\d+', '', regex=True)\n",
    "data[\"Name\"] = data[\"Name\"].str.lstrip()\n",
    "\n",
    "oldest_ten_players = data.sort_values(by=\"Age\", ascending=False).head(10)\n",
    "print(\"The 10 oldest players are:\")\n",
    "for index, row in oldest_ten_players.iterrows():\n",
    "    print(f\"{row['Name']} - {row['Age']}\")"
   ],
   "metadata": {
    "collapsed": false
   },
   "id": "5dcdbeab84745669"
  },
  {
   "cell_type": "code",
   "execution_count": null,
   "outputs": [],
   "source": [
    "data.drop(data[data[\"Position\"] == \"GK\"].index, inplace=True)\n",
    "data = data.drop([\"GKDiving\", \"GKHandling\", \"GKKicking\", \"GKPositioning\", \"GKReflexes\"], axis=1, inplace=False)"
   ],
   "metadata": {
    "collapsed": false
   },
   "id": "f6562df96b3a0d07"
  },
  {
   "cell_type": "code",
   "execution_count": null,
   "outputs": [],
   "source": [
    "age_rating_avg = data.groupby(\"Age\")[\"Overall\"].mean().reset_index()\n",
    "plt.scatter(data[\"Age\"], data[\"Overall\"], s=5, alpha=0.08)\n",
    "plt.plot(age_rating_avg['Age'], age_rating_avg['Overall'], color='red', linewidth=2, label='Average Overall per Age')\n",
    "plt.xlabel(\"Age\")\n",
    "plt.ylabel(\"Overall\")\n",
    "plt.title(\"Comparison of overall rating against player age\")\n",
    "plt.legend()\n",
    "plt.show();"
   ],
   "metadata": {
    "collapsed": false
   },
   "id": "f2d5c1a11d66422c"
  },
  {
   "cell_type": "code",
   "execution_count": null,
   "outputs": [],
   "source": [
    "from scipy import stats\n",
    "\n",
    "sns.boxplot(x=\"Weak Foot\", y=\"Finishing\", data=data)\n",
    "plt.xlabel(\"Weak Foot\")\n",
    "plt.ylabel(\"Finishing\")\n",
    "\n",
    "groups = data[\"Weak Foot\"].unique()\n",
    "grouped_data = [data[data[\"Weak Foot\"] == group][\"Finishing\"] for group in groups]\n",
    "F, p = stats.kruskal(*grouped_data)\n",
    "\n",
    "plt.title(f\"Distribution of all 'Weak Foot' groups (ANOVA, $p = {p}$)\")\n",
    "plt.show();"
   ],
   "metadata": {
    "collapsed": false
   },
   "id": "5b21b6a3df78c6a0"
  },
  {
   "cell_type": "code",
   "execution_count": null,
   "outputs": [],
   "source": [
    "from statsmodels.stats.multicomp import pairwise_tukeyhsd\n",
    "\n",
    "pairwise_comparison = pairwise_tukeyhsd(data[\"Finishing\"], data[\"Weak Foot\"])\n",
    "print(pairwise_comparison)"
   ],
   "metadata": {
    "collapsed": false
   },
   "id": "e8bfb368ea86421f"
  },
  {
   "cell_type": "code",
   "execution_count": null,
   "outputs": [],
   "source": [
    "sns.boxplot(x=\"Skill Moves\", y=\"Dribbling\", data=data)\n",
    "plt.xlabel(\"Skill Moves\")\n",
    "plt.ylabel(\"Dribbling\")\n",
    "\n",
    "groups = data[\"Skill Moves\"].unique()\n",
    "grouped_data = [data[data[\"Skill Moves\"] == group][\"Dribbling\"] for group in groups]\n",
    "F, p = stats.kruskal(*grouped_data)\n",
    "\n",
    "plt.title(f\"Distribution of all 'Skill Moves' groups (ANOVA, $p = {p}$)\")\n",
    "plt.show();"
   ],
   "metadata": {
    "collapsed": false
   },
   "id": "f72f27f158aa0a14"
  },
  {
   "cell_type": "code",
   "execution_count": null,
   "outputs": [],
   "source": [
    "pairwise_comparison = pairwise_tukeyhsd(data[\"Dribbling\"], data[\"Skill Moves\"])\n",
    "print(pairwise_comparison)"
   ],
   "metadata": {
    "collapsed": false
   },
   "id": "537bec9b0f04d697"
  },
  {
   "cell_type": "code",
   "execution_count": null,
   "outputs": [],
   "source": [
    "sns.regplot(x=\"Age\", y=\"SprintSpeed\", data=data, scatter_kws={'alpha':0.5}, line_kws={'color': 'red'})\n",
    "test = stats.pearsonr(data[\"SprintSpeed\"], data[\"Age\"])\n",
    "plt.title(f\"Correlation between Age and SprintSpeed ($R = {test.statistic:.3f}$)\")\n",
    "plt.show();"
   ],
   "metadata": {
    "collapsed": false
   },
   "id": "f0c398c8a1d37d1a"
  },
  {
   "cell_type": "code",
   "execution_count": null,
   "outputs": [],
   "source": [
    "sns.regplot(x=\"Age\", y=\"Acceleration\", data=data, scatter_kws={'alpha':0.5}, line_kws={'color': 'red'})\n",
    "test = stats.pearsonr(data[\"Age\"], data[\"Acceleration\"])\n",
    "plt.title(f\"Correlation between Age and Acceleration ($R = {test.statistic:.3f}$)\")\n",
    "plt.show();"
   ],
   "metadata": {
    "collapsed": false
   },
   "id": "5291dfb3175d8e6c"
  },
  {
   "cell_type": "code",
   "execution_count": null,
   "outputs": [],
   "source": [
    "sns.regplot(x=\"SprintSpeed\", y=\"Acceleration\", data=data, scatter_kws={'alpha':0.5}, line_kws={'color': 'red'})\n",
    "plt.plot(np.linspace(1, 100, 100), np.linspace(1, 100, 100), color=\"purple\", linestyle=\"dashed\")\n",
    "\n",
    "test = stats.pearsonr(data[\"SprintSpeed\"], data[\"Acceleration\"])\n",
    "plt.title(f\"Correlation between SprintSpeed and Acceleration ($R = {test.statistic:.3f}$)\")\n",
    "plt.show();"
   ],
   "metadata": {
    "collapsed": false
   },
   "id": "e3dca6ce5a2a3c67"
  },
  {
   "cell_type": "code",
   "execution_count": null,
   "outputs": [],
   "source": [
    "stats_no_label = data.drop([\"ID\", \"Name\", \"Nationality\", \"Overall\", \"Club\", \"Value\", \"Wage\", \"Preferred Foot\", \"Weak Foot\", \"Skill Moves\",\n",
    "                            \"Work Rate\", \"Jersey Number\", \"Height\", \"Weight\", \"Position\", \"Age\", \"Marking\"], axis=1, inplace=False)\n",
    "stats_no_label"
   ],
   "metadata": {
    "collapsed": false
   },
   "id": "fdb9446cf7d60ef0"
  },
  {
   "cell_type": "code",
   "execution_count": null,
   "outputs": [],
   "source": [
    "correlation_matrix = stats_no_label.corr()\n",
    "\n",
    "plt.figure(figsize=(20, 18))\n",
    "sns.heatmap(correlation_matrix, annot=True, cmap='coolwarm', fmt='.2f', linewidths=.5)\n",
    "plt.title('Correlation Matrix Heatmap')\n",
    "plt.show();"
   ],
   "metadata": {
    "collapsed": false
   },
   "id": "61b88cbb70e6ce83"
  }
 ],
 "metadata": {
  "kernelspec": {
   "display_name": "Python 3",
   "language": "python",
   "name": "python3"
  },
  "language_info": {
   "codemirror_mode": {
    "name": "ipython",
    "version": 2
   },
   "file_extension": ".py",
   "mimetype": "text/x-python",
   "name": "python",
   "nbconvert_exporter": "python",
   "pygments_lexer": "ipython2",
   "version": "2.7.6"
  }
 },
 "nbformat": 4,
 "nbformat_minor": 5
}

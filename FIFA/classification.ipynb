{
 "cells": [
  {
   "cell_type": "code",
   "execution_count": 24,
   "id": "initial_id",
   "metadata": {
    "collapsed": true,
    "ExecuteTime": {
     "end_time": "2023-11-19T00:07:28.488709100Z",
     "start_time": "2023-11-19T00:07:28.479042500Z"
    }
   },
   "outputs": [],
   "source": [
    "import pandas as pd\n",
    "import matplotlib.pyplot as plt\n",
    "import seaborn as sns"
   ]
  },
  {
   "cell_type": "code",
   "execution_count": 25,
   "outputs": [
    {
     "data": {
      "text/plain": "(87642, 65)"
     },
     "execution_count": 25,
     "metadata": {},
     "output_type": "execute_result"
    }
   ],
   "source": [
    "fifa17_raw_data = pd.read_csv(\"data/FIFA17_official_data.csv\")\n",
    "fifa18_raw_data = pd.read_csv(\"data/FIFA18_official_data.csv\")\n",
    "fifa19_raw_data = pd.read_csv(\"data/FIFA19_official_data.csv\")\n",
    "fifa20_raw_data = pd.read_csv(\"data/FIFA20_official_data.csv\")\n",
    "fifa21_raw_data = pd.read_csv(\"data/FIFA21_official_data.csv\")\n",
    "\n",
    "old_raw_data = pd.concat([fifa17_raw_data, fifa18_raw_data, fifa19_raw_data, fifa20_raw_data, fifa21_raw_data], ignore_index=True)\n",
    "old_raw_data.shape"
   ],
   "metadata": {
    "collapsed": false,
    "ExecuteTime": {
     "end_time": "2023-11-19T00:07:28.897575600Z",
     "start_time": "2023-11-19T00:07:28.481682700Z"
    }
   },
   "id": "a1a30937118368d7"
  },
  {
   "cell_type": "code",
   "execution_count": 26,
   "outputs": [
    {
     "data": {
      "text/plain": "(86935, 29)"
     },
     "execution_count": 26,
     "metadata": {},
     "output_type": "execute_result"
    }
   ],
   "source": [
    "old_raw_data.drop(old_raw_data[old_raw_data[\"Position\"] == \"GK\"].index, inplace=True)\n",
    "old_raw_data = old_raw_data.drop([\"Photo\", \"Flag\", \"Club Logo\", \"Special\", \"International Reputation\", \"Body Type\", \"Real Face\", \"Joined\",\n",
    "                                  \"Loaned From\",\"Contract Valid Until\", \"Release Clause\", \"Best Position\", \"Best Overall Rating\", \"Potential\",\n",
    "                                  \"ID\", \"Name\", \"Nationality\", \"Club\", \"Value\", \"Wage\", \"Preferred Foot\", \"Weak Foot\", \"Skill Moves\",\n",
    "                                  \"Work Rate\", \"Jersey Number\", \"Height\", \"Weight\", \"Position\", \"Age\", \"Marking\", \"GKDiving\", \"GKHandling\",\n",
    "                                  \"GKKicking\", \"GKPositioning\", \"GKReflexes\", \"DefensiveAwareness\"],\n",
    "                                 axis=1, inplace=False)\n",
    "old_raw_data.dropna(inplace=True)\n",
    "old_raw_data.shape"
   ],
   "metadata": {
    "collapsed": false,
    "ExecuteTime": {
     "end_time": "2023-11-19T00:07:28.969557700Z",
     "start_time": "2023-11-19T00:07:28.898579300Z"
    }
   },
   "id": "51ff34da390b1d81"
  },
  {
   "cell_type": "code",
   "execution_count": 27,
   "outputs": [
    {
     "data": {
      "text/plain": "       Crossing  Finishing  HeadingAccuracy  ShortPassing  Volleys  Dribbling  \\\n0          77.0       94.0             77.0          83.0     88.0       86.0   \n1          73.0       76.0             59.0          84.0     75.0       80.0   \n2          76.0       77.0             81.0          84.0     78.0       76.0   \n3          82.0       63.0             75.0          83.0     68.0       79.0   \n4          78.0       71.0             73.0          85.0     84.0       89.0   \n...         ...        ...              ...           ...      ...        ...   \n87637      14.0        5.0             13.0          24.0      5.0       14.0   \n87638       8.0        9.0             11.0          23.0      7.0       11.0   \n87639      10.0        7.0             10.0          17.0      8.0        6.0   \n87640      10.0        7.0             11.0          19.0      7.0       10.0   \n87641      10.0        6.0             10.0          25.0      6.0       12.0   \n\n       Curve  FKAccuracy  LongPassing  BallControl  ...  LongShots  \\\n0       86.0        84.0         64.0         91.0  ...       86.0   \n1       73.0        68.0         81.0         85.0  ...       86.0   \n2       76.0        68.0         82.0         83.0  ...       85.0   \n3       78.0        83.0         80.0         83.0  ...       83.0   \n4       84.0        82.0         88.0         90.0  ...       87.0   \n...      ...         ...          ...          ...  ...        ...   \n87637   13.0        12.0         15.0         11.0  ...        5.0   \n87638   11.0        11.0         17.0         14.0  ...        8.0   \n87639   13.0        10.0         19.0         16.0  ...        7.0   \n87640   13.0        10.0         18.0         12.0  ...        6.0   \n87641   13.0        10.0         20.0         17.0  ...        5.0   \n\n       Aggression  Interceptions  Positioning  Vision  Penalties  Composure  \\\n0            78.0           41.0         92.0    84.0       85.0       83.0   \n1            88.0           86.0         88.0    76.0       63.0       85.0   \n2            91.0           89.0         80.0    80.0       84.0       86.0   \n3            69.0           85.0         77.0    78.0       80.0       79.0   \n4            72.0           70.0         84.0    87.0       76.0       83.0   \n...           ...            ...          ...     ...        ...        ...   \n87637        23.0           12.0          7.0    31.0       11.0       29.0   \n87638        21.0            4.0          5.0    21.0        7.0       24.0   \n87639        19.0           10.0          6.0    12.0       13.0       30.0   \n87640        18.0            9.0          6.0    21.0       14.0       20.0   \n87641        17.0            5.0          3.0    28.0       16.0       23.0   \n\n       StandingTackle  SlidingTackle    Rank  \n0                45.0           38.0    Gold  \n1                85.0           88.0    Gold  \n2                89.0           84.0    Gold  \n3                83.0           83.0    Gold  \n4                73.0           73.0    Gold  \n...               ...            ...     ...  \n87637            11.0           13.0  Bronze  \n87638            12.0           10.0  Bronze  \n87639            10.0           11.0  Bronze  \n87640            10.0           10.0  Bronze  \n87641            10.0           11.0  Bronze  \n\n[86935 rows x 29 columns]",
      "text/html": "<div>\n<style scoped>\n    .dataframe tbody tr th:only-of-type {\n        vertical-align: middle;\n    }\n\n    .dataframe tbody tr th {\n        vertical-align: top;\n    }\n\n    .dataframe thead th {\n        text-align: right;\n    }\n</style>\n<table border=\"1\" class=\"dataframe\">\n  <thead>\n    <tr style=\"text-align: right;\">\n      <th></th>\n      <th>Crossing</th>\n      <th>Finishing</th>\n      <th>HeadingAccuracy</th>\n      <th>ShortPassing</th>\n      <th>Volleys</th>\n      <th>Dribbling</th>\n      <th>Curve</th>\n      <th>FKAccuracy</th>\n      <th>LongPassing</th>\n      <th>BallControl</th>\n      <th>...</th>\n      <th>LongShots</th>\n      <th>Aggression</th>\n      <th>Interceptions</th>\n      <th>Positioning</th>\n      <th>Vision</th>\n      <th>Penalties</th>\n      <th>Composure</th>\n      <th>StandingTackle</th>\n      <th>SlidingTackle</th>\n      <th>Rank</th>\n    </tr>\n  </thead>\n  <tbody>\n    <tr>\n      <th>0</th>\n      <td>77.0</td>\n      <td>94.0</td>\n      <td>77.0</td>\n      <td>83.0</td>\n      <td>88.0</td>\n      <td>86.0</td>\n      <td>86.0</td>\n      <td>84.0</td>\n      <td>64.0</td>\n      <td>91.0</td>\n      <td>...</td>\n      <td>86.0</td>\n      <td>78.0</td>\n      <td>41.0</td>\n      <td>92.0</td>\n      <td>84.0</td>\n      <td>85.0</td>\n      <td>83.0</td>\n      <td>45.0</td>\n      <td>38.0</td>\n      <td>Gold</td>\n    </tr>\n    <tr>\n      <th>1</th>\n      <td>73.0</td>\n      <td>76.0</td>\n      <td>59.0</td>\n      <td>84.0</td>\n      <td>75.0</td>\n      <td>80.0</td>\n      <td>73.0</td>\n      <td>68.0</td>\n      <td>81.0</td>\n      <td>85.0</td>\n      <td>...</td>\n      <td>86.0</td>\n      <td>88.0</td>\n      <td>86.0</td>\n      <td>88.0</td>\n      <td>76.0</td>\n      <td>63.0</td>\n      <td>85.0</td>\n      <td>85.0</td>\n      <td>88.0</td>\n      <td>Gold</td>\n    </tr>\n    <tr>\n      <th>2</th>\n      <td>76.0</td>\n      <td>77.0</td>\n      <td>81.0</td>\n      <td>84.0</td>\n      <td>78.0</td>\n      <td>76.0</td>\n      <td>76.0</td>\n      <td>68.0</td>\n      <td>82.0</td>\n      <td>83.0</td>\n      <td>...</td>\n      <td>85.0</td>\n      <td>91.0</td>\n      <td>89.0</td>\n      <td>80.0</td>\n      <td>80.0</td>\n      <td>84.0</td>\n      <td>86.0</td>\n      <td>89.0</td>\n      <td>84.0</td>\n      <td>Gold</td>\n    </tr>\n    <tr>\n      <th>3</th>\n      <td>82.0</td>\n      <td>63.0</td>\n      <td>75.0</td>\n      <td>83.0</td>\n      <td>68.0</td>\n      <td>79.0</td>\n      <td>78.0</td>\n      <td>83.0</td>\n      <td>80.0</td>\n      <td>83.0</td>\n      <td>...</td>\n      <td>83.0</td>\n      <td>69.0</td>\n      <td>85.0</td>\n      <td>77.0</td>\n      <td>78.0</td>\n      <td>80.0</td>\n      <td>79.0</td>\n      <td>83.0</td>\n      <td>83.0</td>\n      <td>Gold</td>\n    </tr>\n    <tr>\n      <th>4</th>\n      <td>78.0</td>\n      <td>71.0</td>\n      <td>73.0</td>\n      <td>85.0</td>\n      <td>84.0</td>\n      <td>89.0</td>\n      <td>84.0</td>\n      <td>82.0</td>\n      <td>88.0</td>\n      <td>90.0</td>\n      <td>...</td>\n      <td>87.0</td>\n      <td>72.0</td>\n      <td>70.0</td>\n      <td>84.0</td>\n      <td>87.0</td>\n      <td>76.0</td>\n      <td>83.0</td>\n      <td>73.0</td>\n      <td>73.0</td>\n      <td>Gold</td>\n    </tr>\n    <tr>\n      <th>...</th>\n      <td>...</td>\n      <td>...</td>\n      <td>...</td>\n      <td>...</td>\n      <td>...</td>\n      <td>...</td>\n      <td>...</td>\n      <td>...</td>\n      <td>...</td>\n      <td>...</td>\n      <td>...</td>\n      <td>...</td>\n      <td>...</td>\n      <td>...</td>\n      <td>...</td>\n      <td>...</td>\n      <td>...</td>\n      <td>...</td>\n      <td>...</td>\n      <td>...</td>\n      <td>...</td>\n    </tr>\n    <tr>\n      <th>87637</th>\n      <td>14.0</td>\n      <td>5.0</td>\n      <td>13.0</td>\n      <td>24.0</td>\n      <td>5.0</td>\n      <td>14.0</td>\n      <td>13.0</td>\n      <td>12.0</td>\n      <td>15.0</td>\n      <td>11.0</td>\n      <td>...</td>\n      <td>5.0</td>\n      <td>23.0</td>\n      <td>12.0</td>\n      <td>7.0</td>\n      <td>31.0</td>\n      <td>11.0</td>\n      <td>29.0</td>\n      <td>11.0</td>\n      <td>13.0</td>\n      <td>Bronze</td>\n    </tr>\n    <tr>\n      <th>87638</th>\n      <td>8.0</td>\n      <td>9.0</td>\n      <td>11.0</td>\n      <td>23.0</td>\n      <td>7.0</td>\n      <td>11.0</td>\n      <td>11.0</td>\n      <td>11.0</td>\n      <td>17.0</td>\n      <td>14.0</td>\n      <td>...</td>\n      <td>8.0</td>\n      <td>21.0</td>\n      <td>4.0</td>\n      <td>5.0</td>\n      <td>21.0</td>\n      <td>7.0</td>\n      <td>24.0</td>\n      <td>12.0</td>\n      <td>10.0</td>\n      <td>Bronze</td>\n    </tr>\n    <tr>\n      <th>87639</th>\n      <td>10.0</td>\n      <td>7.0</td>\n      <td>10.0</td>\n      <td>17.0</td>\n      <td>8.0</td>\n      <td>6.0</td>\n      <td>13.0</td>\n      <td>10.0</td>\n      <td>19.0</td>\n      <td>16.0</td>\n      <td>...</td>\n      <td>7.0</td>\n      <td>19.0</td>\n      <td>10.0</td>\n      <td>6.0</td>\n      <td>12.0</td>\n      <td>13.0</td>\n      <td>30.0</td>\n      <td>10.0</td>\n      <td>11.0</td>\n      <td>Bronze</td>\n    </tr>\n    <tr>\n      <th>87640</th>\n      <td>10.0</td>\n      <td>7.0</td>\n      <td>11.0</td>\n      <td>19.0</td>\n      <td>7.0</td>\n      <td>10.0</td>\n      <td>13.0</td>\n      <td>10.0</td>\n      <td>18.0</td>\n      <td>12.0</td>\n      <td>...</td>\n      <td>6.0</td>\n      <td>18.0</td>\n      <td>9.0</td>\n      <td>6.0</td>\n      <td>21.0</td>\n      <td>14.0</td>\n      <td>20.0</td>\n      <td>10.0</td>\n      <td>10.0</td>\n      <td>Bronze</td>\n    </tr>\n    <tr>\n      <th>87641</th>\n      <td>10.0</td>\n      <td>6.0</td>\n      <td>10.0</td>\n      <td>25.0</td>\n      <td>6.0</td>\n      <td>12.0</td>\n      <td>13.0</td>\n      <td>10.0</td>\n      <td>20.0</td>\n      <td>17.0</td>\n      <td>...</td>\n      <td>5.0</td>\n      <td>17.0</td>\n      <td>5.0</td>\n      <td>3.0</td>\n      <td>28.0</td>\n      <td>16.0</td>\n      <td>23.0</td>\n      <td>10.0</td>\n      <td>11.0</td>\n      <td>Bronze</td>\n    </tr>\n  </tbody>\n</table>\n<p>86935 rows × 29 columns</p>\n</div>"
     },
     "execution_count": 27,
     "metadata": {},
     "output_type": "execute_result"
    }
   ],
   "source": [
    "bins = [-1, 64, 74, 100]\n",
    "labels = [\"Bronze\", \"Silver\", \"Gold\"]\n",
    "old_raw_data[\"Rank\"] = pd.cut(old_raw_data[\"Overall\"], bins=bins, labels=labels, include_lowest=True)\n",
    "old_raw_data = old_raw_data.drop([\"Overall\"], axis=1, inplace=False)\n",
    "\n",
    "old_raw_data"
   ],
   "metadata": {
    "collapsed": false,
    "ExecuteTime": {
     "end_time": "2023-11-19T00:07:28.971565600Z",
     "start_time": "2023-11-19T00:07:28.936980400Z"
    }
   },
   "id": "2252e30df12d1efe"
  },
  {
   "cell_type": "code",
   "execution_count": 28,
   "outputs": [],
   "source": [
    "from sklearn.ensemble import RandomForestClassifier\n",
    "from sklearn.metrics import accuracy_score, classification_report\n",
    "from sklearn.model_selection import train_test_split\n",
    "\n",
    "X = old_raw_data.drop(\"Rank\", axis=1)\n",
    "y = old_raw_data[\"Rank\"]\n",
    "\n",
    "X_train, X_test, y_train, y_test = train_test_split(X, y, test_size=0.2, random_state=42)"
   ],
   "metadata": {
    "collapsed": false,
    "ExecuteTime": {
     "end_time": "2023-11-19T00:07:29.008508800Z",
     "start_time": "2023-11-19T00:07:28.964559Z"
    }
   },
   "id": "c9c3d45642fe1c3f"
  },
  {
   "cell_type": "code",
   "execution_count": 29,
   "outputs": [
    {
     "data": {
      "text/plain": "RandomForestClassifier(random_state=42)",
      "text/html": "<style>#sk-container-id-2 {color: black;}#sk-container-id-2 pre{padding: 0;}#sk-container-id-2 div.sk-toggleable {background-color: white;}#sk-container-id-2 label.sk-toggleable__label {cursor: pointer;display: block;width: 100%;margin-bottom: 0;padding: 0.3em;box-sizing: border-box;text-align: center;}#sk-container-id-2 label.sk-toggleable__label-arrow:before {content: \"▸\";float: left;margin-right: 0.25em;color: #696969;}#sk-container-id-2 label.sk-toggleable__label-arrow:hover:before {color: black;}#sk-container-id-2 div.sk-estimator:hover label.sk-toggleable__label-arrow:before {color: black;}#sk-container-id-2 div.sk-toggleable__content {max-height: 0;max-width: 0;overflow: hidden;text-align: left;background-color: #f0f8ff;}#sk-container-id-2 div.sk-toggleable__content pre {margin: 0.2em;color: black;border-radius: 0.25em;background-color: #f0f8ff;}#sk-container-id-2 input.sk-toggleable__control:checked~div.sk-toggleable__content {max-height: 200px;max-width: 100%;overflow: auto;}#sk-container-id-2 input.sk-toggleable__control:checked~label.sk-toggleable__label-arrow:before {content: \"▾\";}#sk-container-id-2 div.sk-estimator input.sk-toggleable__control:checked~label.sk-toggleable__label {background-color: #d4ebff;}#sk-container-id-2 div.sk-label input.sk-toggleable__control:checked~label.sk-toggleable__label {background-color: #d4ebff;}#sk-container-id-2 input.sk-hidden--visually {border: 0;clip: rect(1px 1px 1px 1px);clip: rect(1px, 1px, 1px, 1px);height: 1px;margin: -1px;overflow: hidden;padding: 0;position: absolute;width: 1px;}#sk-container-id-2 div.sk-estimator {font-family: monospace;background-color: #f0f8ff;border: 1px dotted black;border-radius: 0.25em;box-sizing: border-box;margin-bottom: 0.5em;}#sk-container-id-2 div.sk-estimator:hover {background-color: #d4ebff;}#sk-container-id-2 div.sk-parallel-item::after {content: \"\";width: 100%;border-bottom: 1px solid gray;flex-grow: 1;}#sk-container-id-2 div.sk-label:hover label.sk-toggleable__label {background-color: #d4ebff;}#sk-container-id-2 div.sk-serial::before {content: \"\";position: absolute;border-left: 1px solid gray;box-sizing: border-box;top: 0;bottom: 0;left: 50%;z-index: 0;}#sk-container-id-2 div.sk-serial {display: flex;flex-direction: column;align-items: center;background-color: white;padding-right: 0.2em;padding-left: 0.2em;position: relative;}#sk-container-id-2 div.sk-item {position: relative;z-index: 1;}#sk-container-id-2 div.sk-parallel {display: flex;align-items: stretch;justify-content: center;background-color: white;position: relative;}#sk-container-id-2 div.sk-item::before, #sk-container-id-2 div.sk-parallel-item::before {content: \"\";position: absolute;border-left: 1px solid gray;box-sizing: border-box;top: 0;bottom: 0;left: 50%;z-index: -1;}#sk-container-id-2 div.sk-parallel-item {display: flex;flex-direction: column;z-index: 1;position: relative;background-color: white;}#sk-container-id-2 div.sk-parallel-item:first-child::after {align-self: flex-end;width: 50%;}#sk-container-id-2 div.sk-parallel-item:last-child::after {align-self: flex-start;width: 50%;}#sk-container-id-2 div.sk-parallel-item:only-child::after {width: 0;}#sk-container-id-2 div.sk-dashed-wrapped {border: 1px dashed gray;margin: 0 0.4em 0.5em 0.4em;box-sizing: border-box;padding-bottom: 0.4em;background-color: white;}#sk-container-id-2 div.sk-label label {font-family: monospace;font-weight: bold;display: inline-block;line-height: 1.2em;}#sk-container-id-2 div.sk-label-container {text-align: center;}#sk-container-id-2 div.sk-container {/* jupyter's `normalize.less` sets `[hidden] { display: none; }` but bootstrap.min.css set `[hidden] { display: none !important; }` so we also need the `!important` here to be able to override the default hidden behavior on the sphinx rendered scikit-learn.org. See: https://github.com/scikit-learn/scikit-learn/issues/21755 */display: inline-block !important;position: relative;}#sk-container-id-2 div.sk-text-repr-fallback {display: none;}</style><div id=\"sk-container-id-2\" class=\"sk-top-container\"><div class=\"sk-text-repr-fallback\"><pre>RandomForestClassifier(random_state=42)</pre><b>In a Jupyter environment, please rerun this cell to show the HTML representation or trust the notebook. <br />On GitHub, the HTML representation is unable to render, please try loading this page with nbviewer.org.</b></div><div class=\"sk-container\" hidden><div class=\"sk-item\"><div class=\"sk-estimator sk-toggleable\"><input class=\"sk-toggleable__control sk-hidden--visually\" id=\"sk-estimator-id-2\" type=\"checkbox\" checked><label for=\"sk-estimator-id-2\" class=\"sk-toggleable__label sk-toggleable__label-arrow\">RandomForestClassifier</label><div class=\"sk-toggleable__content\"><pre>RandomForestClassifier(random_state=42)</pre></div></div></div></div></div>"
     },
     "execution_count": 29,
     "metadata": {},
     "output_type": "execute_result"
    }
   ],
   "source": [
    "rfc = RandomForestClassifier(random_state=42)\n",
    "rfc.fit(X_train, y_train)"
   ],
   "metadata": {
    "collapsed": false,
    "ExecuteTime": {
     "end_time": "2023-11-19T00:07:44.032446200Z",
     "start_time": "2023-11-19T00:07:28.992538200Z"
    }
   },
   "id": "3a7ad042cbfceda0"
  },
  {
   "cell_type": "code",
   "execution_count": 30,
   "outputs": [
    {
     "name": "stdout",
     "output_type": "stream",
     "text": [
      "Accuracy:  0.93\n",
      "Classification report:\n",
      "              precision    recall  f1-score   support\n",
      "\n",
      "      Bronze       0.94      0.94      0.94      6775\n",
      "        Gold       0.94      0.90      0.92      2105\n",
      "      Silver       0.93      0.94      0.93      8507\n",
      "\n",
      "    accuracy                           0.93     17387\n",
      "   macro avg       0.94      0.93      0.93     17387\n",
      "weighted avg       0.93      0.93      0.93     17387\n"
     ]
    }
   ],
   "source": [
    "y_pred = rfc.predict(X_test)\n",
    "\n",
    "rfc_accuracy = accuracy_score(y_test, y_pred)\n",
    "print(f\"Accuracy: {rfc_accuracy: .2f}\")\n",
    "\n",
    "print(\"Classification report:\")\n",
    "print(classification_report(y_test, y_pred))"
   ],
   "metadata": {
    "collapsed": false,
    "ExecuteTime": {
     "end_time": "2023-11-19T00:07:44.415328800Z",
     "start_time": "2023-11-19T00:07:44.033448900Z"
    }
   },
   "id": "79130a6b42ebff83"
  },
  {
   "cell_type": "code",
   "execution_count": 31,
   "outputs": [
    {
     "data": {
      "text/plain": "<Figure size 640x480 with 1 Axes>",
      "image/png": "[encoded data removed]"
     },
     "metadata": {},
     "output_type": "display_data"
    }
   ],
   "source": [
    "from sklearn.metrics import confusion_matrix\n",
    "\n",
    "conf_matrix = confusion_matrix(y_test, y_pred)\n",
    "sns.heatmap(conf_matrix, annot=True, fmt=\"d\", cmap=\"Blues\", cbar=False)\n",
    "plt.xlabel(\"Predicted label\")\n",
    "plt.ylabel(\"True label\")\n",
    "plt.title(\"Confusion matrix\")\n",
    "plt.show();"
   ],
   "metadata": {
    "collapsed": false,
    "ExecuteTime": {
     "end_time": "2023-11-19T00:07:44.504170200Z",
     "start_time": "2023-11-19T00:07:44.410329100Z"
    }
   },
   "id": "740cc3b670b21391"
  },
  {
   "cell_type": "code",
   "execution_count": 32,
   "outputs": [],
   "source": [
    "pred_data = pd.read_csv(\"data/FIFA22_official_data.csv\")\n",
    "\n",
    "pred_data.drop(pred_data[pred_data[\"Position\"] == \"GK\"].index, inplace=True)\n",
    "pred_data = pred_data.drop([\"Photo\", \"Flag\", \"Club Logo\", \"Special\", \"International Reputation\", \"Body Type\", \"Real Face\", \"Joined\",\n",
    "                                  \"Loaned From\",\"Contract Valid Until\", \"Release Clause\", \"Best Position\", \"Best Overall Rating\", \"Potential\",\n",
    "                                  \"ID\", \"Name\", \"Nationality\", \"Club\", \"Value\", \"Wage\", \"Preferred Foot\", \"Weak Foot\", \"Skill Moves\",\n",
    "                                  \"Work Rate\", \"Jersey Number\", \"Height\", \"Weight\", \"Position\", \"Age\", \"Marking\", \"GKDiving\", \"GKHandling\",\n",
    "                                  \"GKKicking\", \"GKPositioning\", \"GKReflexes\", \"DefensiveAwareness\"],\n",
    "                                 axis=1, inplace=False)\n",
    "pred_data.dropna(inplace=True)\n",
    "\n",
    "pred_data[\"Rank\"] = pd.cut(pred_data[\"Overall\"], bins=bins, labels=labels, include_lowest=True)\n",
    "pred_data = pred_data.drop([\"Overall\"], axis=1, inplace=False)\n",
    "\n",
    "X_pred = pred_data.drop(\"Rank\", axis=1)\n",
    "labels = pred_data[\"Rank\"]"
   ],
   "metadata": {
    "collapsed": false,
    "ExecuteTime": {
     "end_time": "2023-11-19T00:07:44.579767300Z",
     "start_time": "2023-11-19T00:07:44.488171200Z"
    }
   },
   "id": "790fad659e84560e"
  },
  {
   "cell_type": "code",
   "execution_count": 33,
   "outputs": [
    {
     "name": "stdout",
     "output_type": "stream",
     "text": [
      "Accuracy:  0.93\n",
      "Classification report:\n",
      "              precision    recall  f1-score   support\n",
      "\n",
      "      Bronze       0.93      0.91      0.92      5126\n",
      "        Gold       0.91      0.92      0.92      2265\n",
      "      Silver       0.93      0.94      0.94      9068\n",
      "\n",
      "    accuracy                           0.93     16459\n",
      "   macro avg       0.93      0.92      0.93     16459\n",
      "weighted avg       0.93      0.93      0.93     16459\n"
     ]
    }
   ],
   "source": [
    "y_pred = rfc.predict(X_pred)\n",
    "\n",
    "rfc_accuracy = accuracy_score(labels, y_pred)\n",
    "print(f\"Accuracy: {rfc_accuracy: .2f}\")\n",
    "\n",
    "print(\"Classification report:\")\n",
    "print(classification_report(labels, y_pred))"
   ],
   "metadata": {
    "collapsed": false,
    "ExecuteTime": {
     "end_time": "2023-11-19T00:07:44.943082200Z",
     "start_time": "2023-11-19T00:07:44.580768300Z"
    }
   },
   "id": "a8dde0baf016e996"
  },
  {
   "cell_type": "code",
   "execution_count": 34,
   "outputs": [
    {
     "data": {
      "text/plain": "<Figure size 640x480 with 1 Axes>",
      "image/png": "[encoded data removed]"
     },
     "metadata": {},
     "output_type": "display_data"
    }
   ],
   "source": [
    "conf_matrix = confusion_matrix(labels, y_pred)\n",
    "sns.heatmap(conf_matrix, annot=True, fmt=\"d\", cmap=\"Blues\", cbar=False)\n",
    "plt.xlabel(\"Predicted label\")\n",
    "plt.ylabel(\"True label\")\n",
    "plt.title(\"Confusion matrix\")\n",
    "plt.show();"
   ],
   "metadata": {
    "collapsed": false,
    "ExecuteTime": {
     "end_time": "2023-11-19T00:07:45.011084900Z",
     "start_time": "2023-11-19T00:07:44.938079500Z"
    }
   },
   "id": "7e255f2fca3af66e"
  },
  {
   "cell_type": "code",
   "execution_count": 34,
   "outputs": [],
   "source": [],
   "metadata": {
    "collapsed": false,
    "ExecuteTime": {
     "end_time": "2023-11-19T00:07:45.011084900Z",
     "start_time": "2023-11-19T00:07:45.009576200Z"
    }
   },
   "id": "336ffffba9134d92"
  }
 ],
 "metadata": {
  "kernelspec": {
   "display_name": "Python 3",
   "language": "python",
   "name": "python3"
  },
  "language_info": {
   "codemirror_mode": {
    "name": "ipython",
    "version": 2
   },
   "file_extension": ".py",
   "mimetype": "text/x-python",
   "name": "python",
   "nbconvert_exporter": "python",
   "pygments_lexer": "ipython2",
   "version": "2.7.6"
  }
 },
 "nbformat": 4,
 "nbformat_minor": 5
}

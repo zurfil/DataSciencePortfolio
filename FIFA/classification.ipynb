{
 "cells": [
  {
   "cell_type": "code",
   "execution_count": null,
   "id": "initial_id",
   "metadata": {
    "collapsed": true
   },
   "outputs": [],
   "source": [
    "import numpy as np\n",
    "import pandas as pd\n",
    "import matplotlib.pyplot as plt\n",
    "import seaborn as sns"
   ]
  },
  {
   "cell_type": "code",
   "execution_count": null,
   "outputs": [],
   "source": [
    "fifa17_raw_data = pd.read_csv(\"data/FIFA17_official_data.csv\")\n",
    "fifa18_raw_data = pd.read_csv(\"data/FIFA18_official_data.csv\")\n",
    "fifa19_raw_data = pd.read_csv(\"data/FIFA19_official_data.csv\")\n",
    "fifa20_raw_data = pd.read_csv(\"data/FIFA20_official_data.csv\")\n",
    "fifa21_raw_data = pd.read_csv(\"data/FIFA21_official_data.csv\")\n",
    "\n",
    "old_raw_data = pd.concat([fifa17_raw_data, fifa18_raw_data, fifa19_raw_data, fifa20_raw_data, fifa21_raw_data], ignore_index=True)\n",
    "old_raw_data.shape"
   ],
   "metadata": {
    "collapsed": false
   },
   "id": "a1a30937118368d7"
  },
  {
   "cell_type": "code",
   "execution_count": null,
   "outputs": [],
   "source": [
    "old_raw_data = old_raw_data.drop([\"Photo\", \"Flag\", \"Club Logo\", \"Special\", \"International Reputation\", \"Body Type\", \"Real Face\", \"Joined\",\n",
    "                                  \"Loaned From\",\"Contract Valid Until\", \"Release Clause\", \"Best Position\", \"Best Overall Rating\", \"Potential\",\n",
    "                                  \"ID\", \"Name\", \"Nationality\", \"Club\", \"Value\", \"Wage\", \"Preferred Foot\", \"Weak Foot\", \"Skill Moves\",\n",
    "                                  \"Work Rate\", \"Jersey Number\", \"Height\", \"Weight\", \"Position\", \"Age\", \"Marking\", \"GKDiving\", \"GKHandling\",\n",
    "                                  \"GKKicking\", \"GKPositioning\", \"GKReflexes\", \"DefensiveAwareness\"],\n",
    "                                 axis=1, inplace=False)\n",
    "old_raw_data.drop(old_raw_data[old_raw_data[\"Position\"] == \"GK\"].index, inplace=True)\n",
    "old_raw_data.dropna(inplace=True)\n",
    "old_raw_data.shape"
   ],
   "metadata": {
    "collapsed": false
   },
   "id": "51ff34da390b1d81"
  },
  {
   "cell_type": "code",
   "execution_count": null,
   "outputs": [],
   "source": [
    "bins = [-1, 64, 74, 100]\n",
    "labels = [\"Bronze\", \"Silver\", \"Gold\"]\n",
    "old_raw_data[\"Rank\"] = pd.cut(old_raw_data[\"Overall\"], bins=bins, labels=labels, include_lowest=True)\n",
    "old_raw_data = old_raw_data.drop([\"Overall\"], axis=1, inplace=False)\n",
    "\n",
    "old_raw_data"
   ],
   "metadata": {
    "collapsed": false
   },
   "id": "2252e30df12d1efe"
  },
  {
   "cell_type": "code",
   "execution_count": null,
   "outputs": [],
   "source": [
    "from sklearn.ensemble import RandomForestClassifier\n",
    "from sklearn.metrics import accuracy_score, classification_report\n",
    "from sklearn.model_selection import train_test_split\n",
    "\n",
    "X = old_raw_data.drop(\"Rank\", axis=1)\n",
    "y = old_raw_data[\"Rank\"]\n",
    "\n",
    "X_train, X_test, y_train, y_test = train_test_split(X, y, test_size=0.2, random_state=42)"
   ],
   "metadata": {
    "collapsed": false
   },
   "id": "c9c3d45642fe1c3f"
  },
  {
   "cell_type": "code",
   "execution_count": null,
   "outputs": [],
   "source": [
    "rfc = RandomForestClassifier(random_state=42)\n",
    "rfc.fit(X_train, y_train)"
   ],
   "metadata": {
    "collapsed": false
   },
   "id": "3a7ad042cbfceda0"
  },
  {
   "cell_type": "code",
   "execution_count": null,
   "outputs": [],
   "source": [
    "y_pred = rfc.predict(X_test)\n",
    "\n",
    "rfc_accuracy = accuracy_score(y_test, y_pred)\n",
    "print(f\"Accuracy: {rfc_accuracy: .2f}\")\n",
    "\n",
    "print(\"Classification report:\")\n",
    "print(classification_report(y_test, y_pred))"
   ],
   "metadata": {
    "collapsed": false
   },
   "id": "79130a6b42ebff83"
  },
  {
   "cell_type": "code",
   "execution_count": null,
   "outputs": [],
   "source": [
    "from sklearn.metrics import confusion_matrix\n",
    "\n",
    "conf_matrix = confusion_matrix(y_test, y_pred)\n",
    "sns.heatmap(conf_matrix, annot=True, fmt=\"d\", cmap=\"Blues\", cbar=False)\n",
    "plt.xlabel(\"Predicted label\")\n",
    "plt.ylabel(\"True label\")\n",
    "plt.title(\"Confusion matrix\")\n",
    "plt.show();"
   ],
   "metadata": {
    "collapsed": false
   },
   "id": "740cc3b670b21391"
  },
  {
   "cell_type": "code",
   "execution_count": null,
   "outputs": [],
   "source": [
    "pred_data = pd.read_csv(\"data/FIFA22_official_data.csv\")\n",
    "\n",
    "pred_data = pred_data.drop([\"Photo\", \"Flag\", \"Club Logo\", \"Special\", \"International Reputation\", \"Body Type\", \"Real Face\", \"Joined\",\n",
    "                                  \"Loaned From\",\"Contract Valid Until\", \"Release Clause\", \"Best Position\", \"Best Overall Rating\", \"Potential\",\n",
    "                                  \"ID\", \"Name\", \"Nationality\", \"Club\", \"Value\", \"Wage\", \"Preferred Foot\", \"Weak Foot\", \"Skill Moves\",\n",
    "                                  \"Work Rate\", \"Jersey Number\", \"Height\", \"Weight\", \"Position\", \"Age\", \"Marking\", \"GKDiving\", \"GKHandling\",\n",
    "                                  \"GKKicking\", \"GKPositioning\", \"GKReflexes\", \"DefensiveAwareness\"],\n",
    "                                 axis=1, inplace=False)\n",
    "pred_data.drop(pred_data[pred_data[\"Position\"] == \"GK\"].index, inplace=True)\n",
    "pred_data.dropna(inplace=True)\n",
    "\n",
    "pred_data[\"Rank\"] = pd.cut(pred_data[\"Overall\"], bins=bins, labels=labels, include_lowest=True)\n",
    "pred_data = pred_data.drop([\"Overall\"], axis=1, inplace=False)\n",
    "\n",
    "X_pred = pred_data.drop(\"Rank\", axis=1)\n",
    "labels = pred_data[\"Rank\"]"
   ],
   "metadata": {
    "collapsed": false
   },
   "id": "790fad659e84560e"
  },
  {
   "cell_type": "code",
   "execution_count": null,
   "outputs": [],
   "source": [
    "y_pred = rfc.predict(X_pred)\n",
    "\n",
    "rfc_accuracy = accuracy_score(labels, y_pred)\n",
    "print(f\"Accuracy: {rfc_accuracy: .2f}\")\n",
    "\n",
    "print(\"Classification report:\")\n",
    "print(classification_report(labels, y_pred))"
   ],
   "metadata": {
    "collapsed": false
   },
   "id": "a8dde0baf016e996"
  },
  {
   "cell_type": "code",
   "execution_count": null,
   "outputs": [],
   "source": [
    "conf_matrix = confusion_matrix(labels, y_pred)\n",
    "sns.heatmap(conf_matrix, annot=True, fmt=\"d\", cmap=\"Blues\", cbar=False)\n",
    "plt.xlabel(\"Predicted label\")\n",
    "plt.ylabel(\"True label\")\n",
    "plt.title(\"Confusion matrix\")\n",
    "plt.show();"
   ],
   "metadata": {
    "collapsed": false
   },
   "id": "7e255f2fca3af66e"
  }
 ],
 "metadata": {
  "kernelspec": {
   "display_name": "Python 3",
   "language": "python",
   "name": "python3"
  },
  "language_info": {
   "codemirror_mode": {
    "name": "ipython",
    "version": 2
   },
   "file_extension": ".py",
   "mimetype": "text/x-python",
   "name": "python",
   "nbconvert_exporter": "python",
   "pygments_lexer": "ipython2",
   "version": "2.7.6"
  }
 },
 "nbformat": 4,
 "nbformat_minor": 5
}

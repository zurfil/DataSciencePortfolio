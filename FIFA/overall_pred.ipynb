{
 "cells": [
  {
   "cell_type": "code",
   "execution_count": 1,
   "id": "initial_id",
   "metadata": {
    "ExecuteTime": {
     "end_time": "2023-12-11T15:53:53.676627345Z",
     "start_time": "2023-12-11T15:53:53.588991449Z"
    }
   },
   "outputs": [],
   "source": [
    "import numpy as np\n",
    "import pandas as pd\n",
    "import matplotlib.pyplot as plt\n",
    "import seaborn as sns"
   ]
  },
  {
   "cell_type": "code",
   "execution_count": 2,
   "id": "b182b60f0de80592",
   "metadata": {
    "ExecuteTime": {
     "end_time": "2023-12-11T15:53:54.804025571Z",
     "start_time": "2023-12-11T15:53:53.665682514Z"
    },
    "collapsed": false,
    "jupyter": {
     "outputs_hidden": false
    }
   },
   "outputs": [
    {
     "data": {
      "text/plain": [
       "(87642, 65)"
      ]
     },
     "execution_count": 2,
     "metadata": {},
     "output_type": "execute_result"
    }
   ],
   "source": [
    "fifa17_raw_data = pd.read_csv(\"data/FIFA17_official_data.csv\")\n",
    "fifa18_raw_data = pd.read_csv(\"data/FIFA18_official_data.csv\")\n",
    "fifa19_raw_data = pd.read_csv(\"data/FIFA19_official_data.csv\")\n",
    "fifa20_raw_data = pd.read_csv(\"data/FIFA20_official_data.csv\")\n",
    "fifa21_raw_data = pd.read_csv(\"data/FIFA21_official_data.csv\")\n",
    "\n",
    "old_raw_data = pd.concat([fifa17_raw_data, fifa18_raw_data, fifa19_raw_data, fifa20_raw_data, fifa21_raw_data], ignore_index=True)\n",
    "old_raw_data.shape"
   ]
  },
  {
   "cell_type": "code",
   "execution_count": 3,
   "id": "5d6cce04b7e6329e",
   "metadata": {
    "ExecuteTime": {
     "end_time": "2023-12-11T15:53:54.858150224Z",
     "start_time": "2023-12-11T15:53:54.764572701Z"
    },
    "collapsed": false,
    "jupyter": {
     "outputs_hidden": false
    }
   },
   "outputs": [
    {
     "data": {
      "text/plain": [
       "(86935, 29)"
      ]
     },
     "execution_count": 3,
     "metadata": {},
     "output_type": "execute_result"
    }
   ],
   "source": [
    "old_raw_data.drop(old_raw_data[old_raw_data[\"Position\"] == \"GK\"].index, inplace=True)\n",
    "old_raw_data = old_raw_data.drop([\"Photo\", \"Flag\", \"Club Logo\", \"Special\", \"International Reputation\", \"Body Type\", \"Real Face\", \"Joined\",\n",
    "                                  \"Loaned From\",\"Contract Valid Until\", \"Release Clause\", \"Best Position\", \"Best Overall Rating\", \"Potential\",\n",
    "                                  \"ID\", \"Name\", \"Nationality\", \"Club\", \"Value\", \"Wage\", \"Preferred Foot\", \"Weak Foot\", \"Skill Moves\",\n",
    "                                  \"Work Rate\", \"Jersey Number\", \"Height\", \"Weight\", \"Position\", \"Age\", \"Marking\", \"GKDiving\", \"GKHandling\",\n",
    "                                  \"GKKicking\", \"GKPositioning\", \"GKReflexes\", \"DefensiveAwareness\"],\n",
    "                                 axis=1, inplace=False)\n",
    "\n",
    "old_raw_data.dropna(inplace=True)\n",
    "old_raw_data.shape"
   ]
  },
  {
   "cell_type": "code",
   "execution_count": 4,
   "id": "c2fb2aeb91aa93fb",
   "metadata": {
    "ExecuteTime": {
     "end_time": "2023-12-11T15:53:55.050397344Z",
     "start_time": "2023-12-11T15:53:54.818469075Z"
    },
    "collapsed": false,
    "jupyter": {
     "outputs_hidden": false
    }
   },
   "outputs": [
    {
     "ename": "ModuleNotFoundError",
     "evalue": "No module named 'sklearn'",
     "output_type": "error",
     "traceback": [
      "\u001b[0;31m---------------------------------------------------------------------------\u001b[0m",
      "\u001b[0;31mModuleNotFoundError\u001b[0m                       Traceback (most recent call last)",
      "Cell \u001b[0;32mIn[4], line 1\u001b[0m\n\u001b[0;32m----> 1\u001b[0m \u001b[38;5;28;01mfrom\u001b[39;00m \u001b[38;5;21;01msklearn\u001b[39;00m\u001b[38;5;21;01m.\u001b[39;00m\u001b[38;5;21;01mmodel_selection\u001b[39;00m \u001b[38;5;28;01mimport\u001b[39;00m train_test_split\n\u001b[1;32m      2\u001b[0m \u001b[38;5;28;01mfrom\u001b[39;00m \u001b[38;5;21;01msklearn\u001b[39;00m\u001b[38;5;21;01m.\u001b[39;00m\u001b[38;5;21;01mlinear_model\u001b[39;00m \u001b[38;5;28;01mimport\u001b[39;00m LinearRegression\n\u001b[1;32m      3\u001b[0m \u001b[38;5;28;01mfrom\u001b[39;00m \u001b[38;5;21;01msklearn\u001b[39;00m\u001b[38;5;21;01m.\u001b[39;00m\u001b[38;5;21;01mmetrics\u001b[39;00m \u001b[38;5;28;01mimport\u001b[39;00m mean_squared_error, r2_score\n",
      "\u001b[0;31mModuleNotFoundError\u001b[0m: No module named 'sklearn'"
     ]
    }
   ],
   "source": [
    "from sklearn.model_selection import train_test_split\n",
    "from sklearn.linear_model import LinearRegression\n",
    "from sklearn.metrics import mean_squared_error, r2_score\n",
    "\n",
    "X = old_raw_data.drop(\"Overall\", axis=1)\n",
    "y= old_raw_data[\"Overall\"]\n",
    "\n",
    "X_train, X_test, y_train, y_test = train_test_split(X, y, test_size=0.2, random_state=42)\n",
    "\n",
    "reg = LinearRegression()\n",
    "reg.fit(X_train, y_train)"
   ]
  },
  {
   "cell_type": "code",
   "execution_count": null,
   "id": "2a744e355b66ed43",
   "metadata": {
    "ExecuteTime": {
     "end_time": "2023-12-11T15:53:55.996739052Z",
     "start_time": "2023-12-11T15:53:55.053289487Z"
    },
    "collapsed": false,
    "jupyter": {
     "outputs_hidden": false
    }
   },
   "outputs": [],
   "source": [
    "y_pred = reg.predict(X_test)\n",
    "\n",
    "mse = mean_squared_error(y_test, y_pred)\n",
    "r2 = r2_score(y_test, y_pred)\n",
    "\n",
    "print(f\"Mean Squared Error: {mse: .2f}\")\n",
    "print(f\"R-squared: {r2: .2f}\")\n",
    "\n",
    "sns.regplot(x=y_test, y=y_pred, scatter_kws={'alpha':0.5}, line_kws={'color': 'red'})\n",
    "plt.plot(np.linspace(1, 100, 100), np.linspace(1, 100, 100), color=\"purple\", linestyle=\"dashed\")\n",
    "plt.xlabel(\"Actual Overall\")\n",
    "plt.ylabel(\"Predicted Overall\")\n",
    "plt.title(\"Test data predictions\")\n",
    "plt.show();"
   ]
  },
  {
   "cell_type": "code",
   "execution_count": null,
   "id": "4912c907f27af7a5",
   "metadata": {
    "ExecuteTime": {
     "end_time": "2023-12-11T15:53:56.134549165Z",
     "start_time": "2023-12-11T15:53:55.996263004Z"
    },
    "collapsed": false,
    "jupyter": {
     "outputs_hidden": false
    }
   },
   "outputs": [],
   "source": [
    "pred_data = pd.read_csv(\"data/FIFA22_official_data.csv\")\n",
    "\n",
    "pred_data.drop(pred_data[pred_data[\"Position\"] == \"GK\"].index, inplace=True)\n",
    "pred_data = pred_data.drop([\"Photo\", \"Flag\", \"Club Logo\", \"Special\", \"International Reputation\", \"Body Type\", \"Real Face\", \"Joined\",\n",
    "                                  \"Loaned From\",\"Contract Valid Until\", \"Release Clause\", \"Best Position\", \"Best Overall Rating\", \"Potential\",\n",
    "                                  \"ID\", \"Name\", \"Nationality\", \"Club\", \"Value\", \"Wage\", \"Preferred Foot\", \"Weak Foot\", \"Skill Moves\",\n",
    "                                  \"Work Rate\", \"Jersey Number\", \"Height\", \"Weight\", \"Position\", \"Age\", \"Marking\", \"GKDiving\", \"GKHandling\",\n",
    "                                  \"GKKicking\", \"GKPositioning\", \"GKReflexes\", \"DefensiveAwareness\"],\n",
    "                                 axis=1, inplace=False)\n",
    "pred_data.dropna(inplace=True)\n",
    "\n",
    "X_pred = pred_data.drop(\"Overall\", axis=1)\n",
    "labels = pred_data[\"Overall\"]"
   ]
  },
  {
   "cell_type": "code",
   "execution_count": null,
   "id": "699cc821b3c35bd5",
   "metadata": {
    "ExecuteTime": {
     "end_time": "2023-12-11T15:53:56.897393729Z",
     "start_time": "2023-12-11T15:53:56.140938218Z"
    },
    "collapsed": false,
    "jupyter": {
     "outputs_hidden": false
    }
   },
   "outputs": [],
   "source": [
    "y_pred = reg.predict(X_pred)\n",
    "\n",
    "mse = mean_squared_error(labels, y_pred)\n",
    "r2 = r2_score(labels, y_pred)\n",
    "\n",
    "print(f\"Mean Squared Error: {mse: .2f}\")\n",
    "print(f\"R-squared: {r2: .2f}\")\n",
    "\n",
    "sns.regplot(x=labels, y=y_pred, scatter_kws={'alpha':0.5}, line_kws={'color': 'red'})\n",
    "plt.plot(np.linspace(1, 100, 100), np.linspace(1, 100, 100), color=\"purple\", linestyle=\"dashed\")\n",
    "plt.xlabel(\"Actual Overall\")\n",
    "plt.ylabel(\"Predicted Overall\")\n",
    "plt.title(\"Real-data predictions\")\n",
    "plt.show();"
   ]
  },
  {
   "cell_type": "code",
   "execution_count": null,
   "id": "f5a2d07be2f31900",
   "metadata": {
    "ExecuteTime": {
     "end_time": "2023-12-11T15:53:58.062932597Z",
     "start_time": "2023-12-11T15:53:56.898973371Z"
    },
    "collapsed": false,
    "jupyter": {
     "outputs_hidden": false
    }
   },
   "outputs": [],
   "source": [
    "from sklearn.model_selection import GridSearchCV, cross_val_score\n",
    "\n",
    "param_grid = {\n",
    "    \"fit_intercept\": [True, False],\n",
    "    \"copy_X\": [True, False],\n",
    "}\n",
    "\n",
    "grid_search = GridSearchCV(reg, param_grid, cv=4, scoring=\"r2\", verbose=2)\n",
    "\n",
    "grid_search.fit(X_train, y_train)\n",
    "\n",
    "print(\"Best Hyperparameters: \", grid_search.best_params_)\n",
    "\n",
    "best_reg = grid_search.best_estimator_\n",
    "cv_scores = cross_val_score(best_reg, X_train, y_train, cv=4, scoring=\"r2\")\n",
    "print(f\"Cross-Validation Scores: {cv_scores}\")\n",
    "print(f\"Mean CV Score: {np.mean(cv_scores) :.2f}\")"
   ]
  },
  {
   "cell_type": "code",
   "execution_count": null,
   "id": "8bc1c9e8071133fa",
   "metadata": {
    "ExecuteTime": {
     "end_time": "2023-12-11T15:53:58.135302359Z",
     "start_time": "2023-12-11T15:53:58.061986945Z"
    },
    "collapsed": false,
    "jupyter": {
     "outputs_hidden": false
    }
   },
   "outputs": [],
   "source": [
    "best_reg.fit(X_train, y_train)\n",
    "\n",
    "y_pred = best_reg.predict(X_test)"
   ]
  },
  {
   "cell_type": "code",
   "execution_count": null,
   "id": "1f3ff1790e073eb6",
   "metadata": {
    "ExecuteTime": {
     "end_time": "2023-12-11T15:53:59.216232963Z",
     "start_time": "2023-12-11T15:53:58.136397374Z"
    },
    "collapsed": false,
    "jupyter": {
     "outputs_hidden": false
    }
   },
   "outputs": [],
   "source": [
    "mse = mean_squared_error(y_test, y_pred)\n",
    "r2 = r2_score(y_test, y_pred)\n",
    "\n",
    "print(f\"Mean Squared Error: {mse: .2f}\")\n",
    "print(f\"R-squared: {r2: .2f}\")\n",
    "\n",
    "sns.regplot(x=y_test, y=y_pred, scatter_kws={\"alpha\":0.5}, line_kws={\"color\": 'red'})\n",
    "plt.plot(np.linspace(1, 100, 100), np.linspace(1, 100, 100), color=\"purple\", linestyle=\"dashed\")\n",
    "plt.xlabel(\"Actual Overall\")\n",
    "plt.ylabel(\"Predicted Overall\")\n",
    "plt.title(\"Test data predictions\")\n",
    "plt.show();"
   ]
  },
  {
   "cell_type": "code",
   "execution_count": null,
   "id": "4f1f007bfe45fd8f",
   "metadata": {
    "ExecuteTime": {
     "end_time": "2023-12-11T15:54:00.139888007Z",
     "start_time": "2023-12-11T15:53:59.159768678Z"
    },
    "collapsed": false,
    "jupyter": {
     "outputs_hidden": false
    }
   },
   "outputs": [],
   "source": [
    "y_pred = best_reg.predict(X_pred)\n",
    "\n",
    "mse = mean_squared_error(labels, y_pred)\n",
    "r2 = r2_score(labels, y_pred)\n",
    "\n",
    "print(f\"Mean Squared Error: {mse: .2f}\")\n",
    "print(f\"R-squared: {r2: .2f}\")\n",
    "\n",
    "sns.regplot(x=labels, y=y_pred, scatter_kws={\"alpha\":0.5}, line_kws={\"color\": 'red'})\n",
    "plt.plot(np.linspace(1, 100, 100), np.linspace(1, 100, 100), color=\"purple\", linestyle=\"dashed\")\n",
    "plt.xlabel(\"Actual Overall\")\n",
    "plt.ylabel(\"Predicted Overall\")\n",
    "plt.title(\"Real-data predictions\")\n",
    "plt.show();"
   ]
  }
 ],
 "metadata": {
  "kernelspec": {
   "display_name": "Python 3 (ipykernel)",
   "language": "python",
   "name": "python3"
  },
  "language_info": {
   "codemirror_mode": {
    "name": "ipython",
    "version": 3
   },
   "file_extension": ".py",
   "mimetype": "text/x-python",
   "name": "python",
   "nbconvert_exporter": "python",
   "pygments_lexer": "ipython3",
   "version": "3.10.12"
  }
 },
 "nbformat": 4,
 "nbformat_minor": 5
}

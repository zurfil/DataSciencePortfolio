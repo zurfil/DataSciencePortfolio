{
 "cells": [
  {
   "cell_type": "code",
   "execution_count": 42,
   "id": "initial_id",
   "metadata": {
    "collapsed": true,
    "ExecuteTime": {
     "end_time": "2024-01-15T14:08:54.229188011Z",
     "start_time": "2024-01-15T14:08:54.222861300Z"
    }
   },
   "outputs": [],
   "source": [
    "import numpy as np\n",
    "import pandas as pd\n",
    "import matplotlib.pyplot as plt\n",
    "import seaborn as sns\n",
    "\n",
    "from datafoobars import drop_personal_data, drop_goalkeeper_data, drop_categorical_data"
   ]
  },
  {
   "cell_type": "code",
   "execution_count": 43,
   "outputs": [
    {
     "data": {
      "text/plain": "       ID            Name  Age  \\\n0  176580       L. Suárez   29   \n1  178518   R. Nainggolan   28   \n2  181872        A. Vidal   29   \n3  197445        D. Alaba   24   \n4  195864        P. Pogba   23   \n\n                                              Photo Nationality  \\\n0  https://cdn.sofifa.com/players/176/580/17_60.png     Uruguay   \n1  https://cdn.sofifa.com/players/178/518/17_60.png     Belgium   \n2  https://cdn.sofifa.com/players/181/872/17_60.png       Chile   \n3  https://cdn.sofifa.com/players/197/445/17_60.png     Austria   \n4  https://cdn.sofifa.com/players/195/864/17_60.png      France   \n\n                                  Flag  Overall  Potential               Club  \\\n0  https://cdn.sofifa.com/flags/uy.png       92         92       FC Barcelona   \n1  https://cdn.sofifa.com/flags/be.png       86         86               Roma   \n2  https://cdn.sofifa.com/flags/cl.png       87         87  FC Bayern München   \n3  https://cdn.sofifa.com/flags/at.png       86         89  FC Bayern München   \n4  https://cdn.sofifa.com/flags/fr.png       88         94  Manchester United   \n\n                                       Club Logo  ... SlidingTackle GKDiving  \\\n0  https://cdn.sofifa.com/teams/241/light_30.png  ...          38.0     27.0   \n1   https://cdn.sofifa.com/teams/52/light_30.png  ...          88.0     11.0   \n2   https://cdn.sofifa.com/teams/21/light_30.png  ...          84.0      4.0   \n3   https://cdn.sofifa.com/teams/21/light_30.png  ...          83.0      5.0   \n4   https://cdn.sofifa.com/teams/11/light_30.png  ...          73.0      5.0   \n\n   GKHandling GKKicking  GKPositioning  GKReflexes  Best Position  \\\n0        25.0      31.0           33.0        37.0             ST   \n1        11.0      14.0            8.0        11.0            CDM   \n2         2.0       4.0            2.0         4.0            CDM   \n3         7.0      14.0           15.0         9.0             LB   \n4         6.0       2.0            4.0         3.0            CAM   \n\n  Best Overall Rating Release Clause DefensiveAwareness  \n0                88.0            NaN                NaN  \n1                84.0            NaN                NaN  \n2                85.0            NaN                NaN  \n3                84.0            NaN                NaN  \n4                85.0            NaN                NaN  \n\n[5 rows x 65 columns]",
      "text/html": "<div>\n<style scoped>\n    .dataframe tbody tr th:only-of-type {\n        vertical-align: middle;\n    }\n\n    .dataframe tbody tr th {\n        vertical-align: top;\n    }\n\n    .dataframe thead th {\n        text-align: right;\n    }\n</style>\n<table border=\"1\" class=\"dataframe\">\n  <thead>\n    <tr style=\"text-align: right;\">\n      <th></th>\n      <th>ID</th>\n      <th>Name</th>\n      <th>Age</th>\n      <th>Photo</th>\n      <th>Nationality</th>\n      <th>Flag</th>\n      <th>Overall</th>\n      <th>Potential</th>\n      <th>Club</th>\n      <th>Club Logo</th>\n      <th>...</th>\n      <th>SlidingTackle</th>\n      <th>GKDiving</th>\n      <th>GKHandling</th>\n      <th>GKKicking</th>\n      <th>GKPositioning</th>\n      <th>GKReflexes</th>\n      <th>Best Position</th>\n      <th>Best Overall Rating</th>\n      <th>Release Clause</th>\n      <th>DefensiveAwareness</th>\n    </tr>\n  </thead>\n  <tbody>\n    <tr>\n      <th>0</th>\n      <td>176580</td>\n      <td>L. Suárez</td>\n      <td>29</td>\n      <td>https://cdn.sofifa.com/players/176/580/17_60.png</td>\n      <td>Uruguay</td>\n      <td>https://cdn.sofifa.com/flags/uy.png</td>\n      <td>92</td>\n      <td>92</td>\n      <td>FC Barcelona</td>\n      <td>https://cdn.sofifa.com/teams/241/light_30.png</td>\n      <td>...</td>\n      <td>38.0</td>\n      <td>27.0</td>\n      <td>25.0</td>\n      <td>31.0</td>\n      <td>33.0</td>\n      <td>37.0</td>\n      <td>ST</td>\n      <td>88.0</td>\n      <td>NaN</td>\n      <td>NaN</td>\n    </tr>\n    <tr>\n      <th>1</th>\n      <td>178518</td>\n      <td>R. Nainggolan</td>\n      <td>28</td>\n      <td>https://cdn.sofifa.com/players/178/518/17_60.png</td>\n      <td>Belgium</td>\n      <td>https://cdn.sofifa.com/flags/be.png</td>\n      <td>86</td>\n      <td>86</td>\n      <td>Roma</td>\n      <td>https://cdn.sofifa.com/teams/52/light_30.png</td>\n      <td>...</td>\n      <td>88.0</td>\n      <td>11.0</td>\n      <td>11.0</td>\n      <td>14.0</td>\n      <td>8.0</td>\n      <td>11.0</td>\n      <td>CDM</td>\n      <td>84.0</td>\n      <td>NaN</td>\n      <td>NaN</td>\n    </tr>\n    <tr>\n      <th>2</th>\n      <td>181872</td>\n      <td>A. Vidal</td>\n      <td>29</td>\n      <td>https://cdn.sofifa.com/players/181/872/17_60.png</td>\n      <td>Chile</td>\n      <td>https://cdn.sofifa.com/flags/cl.png</td>\n      <td>87</td>\n      <td>87</td>\n      <td>FC Bayern München</td>\n      <td>https://cdn.sofifa.com/teams/21/light_30.png</td>\n      <td>...</td>\n      <td>84.0</td>\n      <td>4.0</td>\n      <td>2.0</td>\n      <td>4.0</td>\n      <td>2.0</td>\n      <td>4.0</td>\n      <td>CDM</td>\n      <td>85.0</td>\n      <td>NaN</td>\n      <td>NaN</td>\n    </tr>\n    <tr>\n      <th>3</th>\n      <td>197445</td>\n      <td>D. Alaba</td>\n      <td>24</td>\n      <td>https://cdn.sofifa.com/players/197/445/17_60.png</td>\n      <td>Austria</td>\n      <td>https://cdn.sofifa.com/flags/at.png</td>\n      <td>86</td>\n      <td>89</td>\n      <td>FC Bayern München</td>\n      <td>https://cdn.sofifa.com/teams/21/light_30.png</td>\n      <td>...</td>\n      <td>83.0</td>\n      <td>5.0</td>\n      <td>7.0</td>\n      <td>14.0</td>\n      <td>15.0</td>\n      <td>9.0</td>\n      <td>LB</td>\n      <td>84.0</td>\n      <td>NaN</td>\n      <td>NaN</td>\n    </tr>\n    <tr>\n      <th>4</th>\n      <td>195864</td>\n      <td>P. Pogba</td>\n      <td>23</td>\n      <td>https://cdn.sofifa.com/players/195/864/17_60.png</td>\n      <td>France</td>\n      <td>https://cdn.sofifa.com/flags/fr.png</td>\n      <td>88</td>\n      <td>94</td>\n      <td>Manchester United</td>\n      <td>https://cdn.sofifa.com/teams/11/light_30.png</td>\n      <td>...</td>\n      <td>73.0</td>\n      <td>5.0</td>\n      <td>6.0</td>\n      <td>2.0</td>\n      <td>4.0</td>\n      <td>3.0</td>\n      <td>CAM</td>\n      <td>85.0</td>\n      <td>NaN</td>\n      <td>NaN</td>\n    </tr>\n  </tbody>\n</table>\n<p>5 rows × 65 columns</p>\n</div>"
     },
     "execution_count": 43,
     "metadata": {},
     "output_type": "execute_result"
    }
   ],
   "source": [
    "fifa17_raw_data = pd.read_csv(\"data/FIFA17_official_data.csv\")\n",
    "fifa18_raw_data = pd.read_csv(\"data/FIFA18_official_data.csv\")\n",
    "fifa19_raw_data = pd.read_csv(\"data/FIFA19_official_data.csv\")\n",
    "fifa20_raw_data = pd.read_csv(\"data/FIFA20_official_data.csv\")\n",
    "fifa21_raw_data = pd.read_csv(\"data/FIFA21_official_data.csv\")\n",
    "\n",
    "old_raw_data = pd.concat([fifa17_raw_data, fifa18_raw_data, fifa19_raw_data, fifa20_raw_data, fifa21_raw_data], ignore_index=True)\n",
    "old_raw_data.head()"
   ],
   "metadata": {
    "collapsed": false,
    "ExecuteTime": {
     "end_time": "2024-01-15T14:08:55.179698274Z",
     "start_time": "2024-01-15T14:08:54.232845988Z"
    }
   },
   "id": "6f2851c88c75e51e"
  },
  {
   "cell_type": "code",
   "execution_count": 44,
   "outputs": [
    {
     "name": "stdout",
     "output_type": "stream",
     "text": [
      "      Position  Crossing  Finishing  HeadingAccuracy  ShortPassing  Volleys  \\\n",
      "0           ST      77.0       94.0             77.0          83.0     88.0   \n",
      "1           LF      73.0       76.0             59.0          84.0     75.0   \n",
      "2          LDM      76.0       77.0             81.0          84.0     78.0   \n",
      "3           LB      82.0       63.0             75.0          83.0     68.0   \n",
      "4          LDM      78.0       71.0             73.0          85.0     84.0   \n",
      "...        ...       ...        ...              ...           ...      ...   \n",
      "86650      RCB      23.0       27.0             83.0          43.0      NaN   \n",
      "86706      NaN      36.0       55.0             47.0          51.0      NaN   \n",
      "87039      NaN      15.0       20.0             15.0          23.0     17.0   \n",
      "87371      NaN      13.0        9.0             10.0          24.0      6.0   \n",
      "87378      NaN      12.0        5.0             10.0          20.0      6.0   \n",
      "\n",
      "       Dribbling  Curve  FKAccuracy  LongPassing  ...  Strength  LongShots  \\\n",
      "0           86.0   86.0        84.0         64.0  ...      80.0       86.0   \n",
      "1           80.0   73.0        68.0         81.0  ...      78.0       86.0   \n",
      "2           76.0   76.0        68.0         82.0  ...      79.0       85.0   \n",
      "3           79.0   78.0        83.0         80.0  ...      69.0       83.0   \n",
      "4           89.0   84.0        82.0         88.0  ...      91.0       87.0   \n",
      "...          ...    ...         ...          ...  ...       ...        ...   \n",
      "86650       20.0    NaN        76.0         26.0  ...      81.0       18.0   \n",
      "86706       61.0    NaN        41.0         40.0  ...      55.0       47.0   \n",
      "87039       14.0   15.0        12.0         22.0  ...      33.0       16.0   \n",
      "87371       13.0   10.0        10.0         17.0  ...      46.0        8.0   \n",
      "87378        5.0   14.0        13.0         20.0  ...      47.0        7.0   \n",
      "\n",
      "       Aggression  Interceptions  Positioning  Vision  Penalties  Composure  \\\n",
      "0            78.0           41.0         92.0    84.0       85.0       83.0   \n",
      "1            88.0           86.0         88.0    76.0       63.0       85.0   \n",
      "2            91.0           89.0         80.0    80.0       84.0       86.0   \n",
      "3            69.0           85.0         77.0    78.0       80.0       79.0   \n",
      "4            72.0           70.0         84.0    87.0       76.0       83.0   \n",
      "...           ...            ...          ...     ...        ...        ...   \n",
      "86650        79.0            NaN          NaN     NaN       76.0        NaN   \n",
      "86706        54.0           46.0         45.0     NaN       48.0        NaN   \n",
      "87039        28.0           23.0         12.0    27.0       16.0       52.0   \n",
      "87371        24.0           10.0          5.0    30.0       19.0       31.0   \n",
      "87378        26.0           14.0          8.0    29.0       18.0       40.0   \n",
      "\n",
      "       StandingTackle  SlidingTackle  \n",
      "0                45.0           38.0  \n",
      "1                85.0           88.0  \n",
      "2                89.0           84.0  \n",
      "3                83.0           83.0  \n",
      "4                73.0           73.0  \n",
      "...               ...            ...  \n",
      "86650            64.0            NaN  \n",
      "86706            38.0            NaN  \n",
      "87039            15.0           12.0  \n",
      "87371            10.0           11.0  \n",
      "87378            13.0           10.0  \n",
      "\n",
      "[31396 rows x 29 columns]\n"
     ]
    },
    {
     "data": {
      "text/plain": "(31115, 29)"
     },
     "execution_count": 44,
     "metadata": {},
     "output_type": "execute_result"
    }
   ],
   "source": [
    "old_raw_data[\"Position\"] = old_raw_data[\"Position\"].str.extract(r'>\\s*([^<]+)')\n",
    "\n",
    "old_raw_data = old_raw_data.drop(old_raw_data[old_raw_data[\"Position\"] == \"SUB\"].index)\n",
    "old_raw_data = old_raw_data.drop(old_raw_data[old_raw_data[\"Position\"] == \"RES\"].index)\n",
    "\n",
    "old_raw_data = drop_personal_data(old_raw_data)\n",
    "old_raw_data = drop_goalkeeper_data(old_raw_data)\n",
    "old_raw_data = drop_categorical_data(old_raw_data, dropposition=False)\n",
    "old_raw_data.drop(\"Overall\", axis=1, inplace=True)\n",
    "\n",
    "old_raw_data.dropna(inplace=True)\n",
    "old_raw_data.shape"
   ],
   "metadata": {
    "collapsed": false,
    "ExecuteTime": {
     "end_time": "2024-01-15T14:08:55.420924757Z",
     "start_time": "2024-01-15T14:08:55.126011338Z"
    }
   },
   "id": "3dc87c47821f7aa"
  },
  {
   "cell_type": "code",
   "execution_count": 45,
   "outputs": [],
   "source": [
    "position_mapping = {\n",
    "    'Defender': ['LB', 'LCB', 'LWB', 'RB', 'RCB', 'RWB', 'CB'],\n",
    "    'Midfielder': ['CAM', 'CDM', 'CM', 'LAM', 'LCM', 'LDM', 'LM', 'RAM', 'RCM', 'RDM', 'RM'],\n",
    "    'Striker': ['CF', 'LF', 'LS', 'RF', 'RS', 'ST', 'RW', 'LW']\n",
    "}\n",
    "\n",
    "old_raw_data[\"Position\"] = old_raw_data[\"Position\"].map(\n",
    "    {pos: category for category, positions in position_mapping.items() for pos in positions})"
   ],
   "metadata": {
    "collapsed": false,
    "ExecuteTime": {
     "end_time": "2024-01-15T14:08:55.431494616Z",
     "start_time": "2024-01-15T14:08:55.425681602Z"
    }
   },
   "id": "23db07442ccf8147"
  },
  {
   "cell_type": "code",
   "execution_count": 46,
   "outputs": [],
   "source": [
    "from sklearn.ensemble import RandomForestClassifier\n",
    "from sklearn.metrics import accuracy_score, classification_report\n",
    "from sklearn.model_selection import train_test_split\n",
    "\n",
    "X = old_raw_data.drop(\"Position\", axis=1)\n",
    "y = old_raw_data[\"Position\"]\n",
    "\n",
    "X_train, X_test, y_train, y_test = train_test_split(X, y, test_size=0.2, random_state=42)"
   ],
   "metadata": {
    "collapsed": false,
    "ExecuteTime": {
     "end_time": "2024-01-15T14:08:55.463682195Z",
     "start_time": "2024-01-15T14:08:55.429614396Z"
    }
   },
   "id": "c143606158e230c2"
  },
  {
   "cell_type": "code",
   "execution_count": 47,
   "outputs": [
    {
     "data": {
      "text/plain": "RandomForestClassifier(random_state=42)",
      "text/html": "<style>#sk-container-id-2 {color: black;}#sk-container-id-2 pre{padding: 0;}#sk-container-id-2 div.sk-toggleable {background-color: white;}#sk-container-id-2 label.sk-toggleable__label {cursor: pointer;display: block;width: 100%;margin-bottom: 0;padding: 0.3em;box-sizing: border-box;text-align: center;}#sk-container-id-2 label.sk-toggleable__label-arrow:before {content: \"▸\";float: left;margin-right: 0.25em;color: #696969;}#sk-container-id-2 label.sk-toggleable__label-arrow:hover:before {color: black;}#sk-container-id-2 div.sk-estimator:hover label.sk-toggleable__label-arrow:before {color: black;}#sk-container-id-2 div.sk-toggleable__content {max-height: 0;max-width: 0;overflow: hidden;text-align: left;background-color: #f0f8ff;}#sk-container-id-2 div.sk-toggleable__content pre {margin: 0.2em;color: black;border-radius: 0.25em;background-color: #f0f8ff;}#sk-container-id-2 input.sk-toggleable__control:checked~div.sk-toggleable__content {max-height: 200px;max-width: 100%;overflow: auto;}#sk-container-id-2 input.sk-toggleable__control:checked~label.sk-toggleable__label-arrow:before {content: \"▾\";}#sk-container-id-2 div.sk-estimator input.sk-toggleable__control:checked~label.sk-toggleable__label {background-color: #d4ebff;}#sk-container-id-2 div.sk-label input.sk-toggleable__control:checked~label.sk-toggleable__label {background-color: #d4ebff;}#sk-container-id-2 input.sk-hidden--visually {border: 0;clip: rect(1px 1px 1px 1px);clip: rect(1px, 1px, 1px, 1px);height: 1px;margin: -1px;overflow: hidden;padding: 0;position: absolute;width: 1px;}#sk-container-id-2 div.sk-estimator {font-family: monospace;background-color: #f0f8ff;border: 1px dotted black;border-radius: 0.25em;box-sizing: border-box;margin-bottom: 0.5em;}#sk-container-id-2 div.sk-estimator:hover {background-color: #d4ebff;}#sk-container-id-2 div.sk-parallel-item::after {content: \"\";width: 100%;border-bottom: 1px solid gray;flex-grow: 1;}#sk-container-id-2 div.sk-label:hover label.sk-toggleable__label {background-color: #d4ebff;}#sk-container-id-2 div.sk-serial::before {content: \"\";position: absolute;border-left: 1px solid gray;box-sizing: border-box;top: 0;bottom: 0;left: 50%;z-index: 0;}#sk-container-id-2 div.sk-serial {display: flex;flex-direction: column;align-items: center;background-color: white;padding-right: 0.2em;padding-left: 0.2em;position: relative;}#sk-container-id-2 div.sk-item {position: relative;z-index: 1;}#sk-container-id-2 div.sk-parallel {display: flex;align-items: stretch;justify-content: center;background-color: white;position: relative;}#sk-container-id-2 div.sk-item::before, #sk-container-id-2 div.sk-parallel-item::before {content: \"\";position: absolute;border-left: 1px solid gray;box-sizing: border-box;top: 0;bottom: 0;left: 50%;z-index: -1;}#sk-container-id-2 div.sk-parallel-item {display: flex;flex-direction: column;z-index: 1;position: relative;background-color: white;}#sk-container-id-2 div.sk-parallel-item:first-child::after {align-self: flex-end;width: 50%;}#sk-container-id-2 div.sk-parallel-item:last-child::after {align-self: flex-start;width: 50%;}#sk-container-id-2 div.sk-parallel-item:only-child::after {width: 0;}#sk-container-id-2 div.sk-dashed-wrapped {border: 1px dashed gray;margin: 0 0.4em 0.5em 0.4em;box-sizing: border-box;padding-bottom: 0.4em;background-color: white;}#sk-container-id-2 div.sk-label label {font-family: monospace;font-weight: bold;display: inline-block;line-height: 1.2em;}#sk-container-id-2 div.sk-label-container {text-align: center;}#sk-container-id-2 div.sk-container {/* jupyter's `normalize.less` sets `[hidden] { display: none; }` but bootstrap.min.css set `[hidden] { display: none !important; }` so we also need the `!important` here to be able to override the default hidden behavior on the sphinx rendered scikit-learn.org. See: https://github.com/scikit-learn/scikit-learn/issues/21755 */display: inline-block !important;position: relative;}#sk-container-id-2 div.sk-text-repr-fallback {display: none;}</style><div id=\"sk-container-id-2\" class=\"sk-top-container\"><div class=\"sk-text-repr-fallback\"><pre>RandomForestClassifier(random_state=42)</pre><b>In a Jupyter environment, please rerun this cell to show the HTML representation or trust the notebook. <br />On GitHub, the HTML representation is unable to render, please try loading this page with nbviewer.org.</b></div><div class=\"sk-container\" hidden><div class=\"sk-item\"><div class=\"sk-estimator sk-toggleable\"><input class=\"sk-toggleable__control sk-hidden--visually\" id=\"sk-estimator-id-2\" type=\"checkbox\" checked><label for=\"sk-estimator-id-2\" class=\"sk-toggleable__label sk-toggleable__label-arrow\">RandomForestClassifier</label><div class=\"sk-toggleable__content\"><pre>RandomForestClassifier(random_state=42)</pre></div></div></div></div></div>"
     },
     "execution_count": 47,
     "metadata": {},
     "output_type": "execute_result"
    }
   ],
   "source": [
    "rfc = RandomForestClassifier(random_state=42)\n",
    "rfc.fit(X_train, y_train)"
   ],
   "metadata": {
    "collapsed": false,
    "ExecuteTime": {
     "end_time": "2024-01-15T14:09:00.688803187Z",
     "start_time": "2024-01-15T14:08:55.443468579Z"
    }
   },
   "id": "447e6bf1145734aa"
  },
  {
   "cell_type": "code",
   "execution_count": 48,
   "outputs": [
    {
     "name": "stdout",
     "output_type": "stream",
     "text": [
      "Accuracy:  0.88\n",
      "Classification report:\n",
      "              precision    recall  f1-score   support\n",
      "\n",
      "    Defender       0.92      0.95      0.93      2430\n",
      "  Midfielder       0.85      0.88      0.86      2628\n",
      "     Striker       0.87      0.75      0.81      1165\n",
      "\n",
      "    accuracy                           0.88      6223\n",
      "   macro avg       0.88      0.86      0.87      6223\n",
      "weighted avg       0.88      0.88      0.88      6223\n"
     ]
    }
   ],
   "source": [
    "y_pred = rfc.predict(X_test)\n",
    "\n",
    "rfc_accuracy = accuracy_score(y_test, y_pred)\n",
    "print(f\"Accuracy: {rfc_accuracy: .2f}\")\n",
    "\n",
    "print(\"Classification report:\")\n",
    "print(classification_report(y_test, y_pred))"
   ],
   "metadata": {
    "collapsed": false,
    "ExecuteTime": {
     "end_time": "2024-01-15T14:09:00.897118495Z",
     "start_time": "2024-01-15T14:09:00.686244339Z"
    }
   },
   "id": "ad1d769a25fadbb3"
  },
  {
   "cell_type": "code",
   "execution_count": 49,
   "outputs": [
    {
     "data": {
      "text/plain": "<Figure size 1000x800 with 1 Axes>",
      "image/png": "[encoded data removed]"
     },
     "metadata": {},
     "output_type": "display_data"
    }
   ],
   "source": [
    "from sklearn.metrics import confusion_matrix\n",
    "\n",
    "plt.figure(figsize=(10, 8))\n",
    "conf_matrix = confusion_matrix(y_test, y_pred)\n",
    "sns.heatmap(conf_matrix, annot=True, fmt=\"d\", cmap=\"Blues\", cbar=False)\n",
    "plt.xlabel(\"Predicted label\")\n",
    "plt.ylabel(\"True label\")\n",
    "plt.title(\"Confusion matrix\")\n",
    "plt.show();"
   ],
   "metadata": {
    "collapsed": false,
    "ExecuteTime": {
     "end_time": "2024-01-15T14:09:01.033278466Z",
     "start_time": "2024-01-15T14:09:00.899067194Z"
    }
   },
   "id": "79faf1de3fe25fb9"
  },
  {
   "cell_type": "code",
   "execution_count": 49,
   "outputs": [],
   "source": [],
   "metadata": {
    "collapsed": false,
    "ExecuteTime": {
     "end_time": "2024-01-15T14:09:01.039416564Z",
     "start_time": "2024-01-15T14:09:01.035052877Z"
    }
   },
   "id": "7247d70bdefb4b00"
  }
 ],
 "metadata": {
  "kernelspec": {
   "display_name": "Python 3",
   "language": "python",
   "name": "python3"
  },
  "language_info": {
   "codemirror_mode": {
    "name": "ipython",
    "version": 2
   },
   "file_extension": ".py",
   "mimetype": "text/x-python",
   "name": "python",
   "nbconvert_exporter": "python",
   "pygments_lexer": "ipython2",
   "version": "2.7.6"
  }
 },
 "nbformat": 4,
 "nbformat_minor": 5
}
